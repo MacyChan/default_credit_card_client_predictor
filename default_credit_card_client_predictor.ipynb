{
 "cells": [
  {
   "cell_type": "markdown",
   "metadata": {},
   "source": [
    "# Default Credit Card Client Predictor \n",
    "Author: Jacqueline Chong, Junrong Zhu, Lianna Hovhannisyan, Macy Chan"
   ]
  },
  {
   "cell_type": "markdown",
   "metadata": {},
   "source": [
    "## Imports"
   ]
  },
  {
   "cell_type": "code",
   "execution_count": 1,
   "metadata": {},
   "outputs": [],
   "source": [
    "import matplotlib.pyplot as plt\n",
    "import numpy as np\n",
    "import pandas as pd\n",
    "from sklearn import datasets\n",
    "from sklearn.compose import ColumnTransformer, make_column_transformer\n",
    "\n",
    "from sklearn.impute import SimpleImputer\n",
    "from sklearn.model_selection import (\n",
    "    GridSearchCV,\n",
    "    RandomizedSearchCV,\n",
    "    cross_val_score,\n",
    "    cross_validate,\n",
    "    train_test_split,\n",
    ")\n",
    "from sklearn.pipeline import Pipeline, make_pipeline\n",
    "from sklearn.preprocessing import OneHotEncoder, OrdinalEncoder, StandardScaler\n",
    "from sklearn.svm import SVC, SVR\n",
    "from sklearn.preprocessing import PolynomialFeatures\n",
    "\n",
    "from sklearn.dummy import DummyClassifier\n",
    "from sklearn.linear_model import LogisticRegression, Ridge\n",
    "from sklearn.ensemble import RandomForestClassifier\n",
    "from lightgbm.sklearn import LGBMClassifier\n",
    "from xgboost import XGBClassifier\n",
    "from catboost import CatBoostClassifier\n",
    "from sklearn.tree import DecisionTreeClassifier\n",
    "\n",
    "from sklearn.feature_selection import RFECV\n",
    "\n",
    "from sklearn.metrics import (roc_auc_score, classification_report,\n",
    "    confusion_matrix)\n",
    "\n",
    "from sklearn.model_selection import cross_val_predict"
   ]
  },
  {
   "cell_type": "code",
   "execution_count": 2,
   "metadata": {},
   "outputs": [],
   "source": [
    "#Adapted from lecture notes\n",
    "def mean_std_cross_val_scores(model, X_train, y_train, **kwargs):\n",
    "    \"\"\"\n",
    "    Returns mean and std of cross validation\n",
    "\n",
    "    Parameters\n",
    "    ----------\n",
    "    model :\n",
    "        scikit-learn model\n",
    "    X_train : numpy array or pandas DataFrame\n",
    "        X in the training data\n",
    "    y_train :\n",
    "        y in the training data\n",
    "\n",
    "    Returns\n",
    "    ----------\n",
    "        pandas Series with mean scores from cross_validation\n",
    "    \"\"\"\n",
    "\n",
    "    scores = cross_validate(model, X_train, y_train, **kwargs)\n",
    "\n",
    "    mean_scores = pd.DataFrame(scores).mean()\n",
    "    std_scores = pd.DataFrame(scores).std()\n",
    "    out_col = []\n",
    "\n",
    "    for i in range(len(mean_scores)):\n",
    "        out_col.append((f\"%0.3f (+/- %0.3f)\" % (mean_scores[i], std_scores[i])))\n",
    "\n",
    "    return pd.Series(data=out_col, index=mean_scores.index)"
   ]
  },
  {
   "cell_type": "markdown",
   "metadata": {},
   "source": [
    "## 1. Introduction <a name=\"2\"></a>\n",
    "<hr>\n",
    "\n",
    "In this mini project, a classification problem of predicting whether a credit card client will default or not. For this problem, [Default of Credit Card Clients Dataset](https://www.kaggle.com/uciml/default-of-credit-card-clients-dataset) is used. In this data set, there are 30,000 examples and 24 features, and the goal is to estimate whether a person will default (fail to pay) their credit card bills; this column is labeled \"default.payment.next.month\" in the data. The rest of the columns can be used as features. For additional information about the data set, [a associated research paper](https://www.sciencedirect.com/science/article/pii/S0957417407006719) is available through [the UBC library](https://www.library.ubc.ca/). "
   ]
  },
  {
   "cell_type": "markdown",
   "metadata": {},
   "source": [
    "<br><br>"
   ]
  },
  {
   "cell_type": "markdown",
   "metadata": {},
   "source": [
    "<br>The dataset is based on Taiwan’s credit card client default cases from April to September. It has 30000 examples, and each example represents particular client’s information. The dataset has 24 observations with respective values such as gender, age, marital status, last 6 months bills, last 6 months payments, etc, including the final default payment of next month column: labeled 1 (client will make a default) and 0 (client will not make a default). The detailed description of each feature can be found [here]( https://www.kaggle.com/uciml/default-of-credit-card-clients-dataset). "
   ]
  },
  {
   "cell_type": "code",
   "execution_count": 3,
   "metadata": {},
   "outputs": [
    {
     "data": {
      "text/html": [
       "<div>\n",
       "<style scoped>\n",
       "    .dataframe tbody tr th:only-of-type {\n",
       "        vertical-align: middle;\n",
       "    }\n",
       "\n",
       "    .dataframe tbody tr th {\n",
       "        vertical-align: top;\n",
       "    }\n",
       "\n",
       "    .dataframe thead th {\n",
       "        text-align: right;\n",
       "    }\n",
       "</style>\n",
       "<table border=\"1\" class=\"dataframe\">\n",
       "  <thead>\n",
       "    <tr style=\"text-align: right;\">\n",
       "      <th></th>\n",
       "      <th>ID</th>\n",
       "      <th>LIMIT_BAL</th>\n",
       "      <th>SEX</th>\n",
       "      <th>EDUCATION</th>\n",
       "      <th>MARRIAGE</th>\n",
       "      <th>AGE</th>\n",
       "      <th>PAY_0</th>\n",
       "      <th>PAY_2</th>\n",
       "      <th>PAY_3</th>\n",
       "      <th>PAY_4</th>\n",
       "      <th>...</th>\n",
       "      <th>BILL_AMT4</th>\n",
       "      <th>BILL_AMT5</th>\n",
       "      <th>BILL_AMT6</th>\n",
       "      <th>PAY_AMT1</th>\n",
       "      <th>PAY_AMT2</th>\n",
       "      <th>PAY_AMT3</th>\n",
       "      <th>PAY_AMT4</th>\n",
       "      <th>PAY_AMT5</th>\n",
       "      <th>PAY_AMT6</th>\n",
       "      <th>default.payment.next.month</th>\n",
       "    </tr>\n",
       "  </thead>\n",
       "  <tbody>\n",
       "    <tr>\n",
       "      <th>0</th>\n",
       "      <td>1</td>\n",
       "      <td>20000.0</td>\n",
       "      <td>2</td>\n",
       "      <td>2</td>\n",
       "      <td>1</td>\n",
       "      <td>24</td>\n",
       "      <td>2</td>\n",
       "      <td>2</td>\n",
       "      <td>-1</td>\n",
       "      <td>-1</td>\n",
       "      <td>...</td>\n",
       "      <td>0.0</td>\n",
       "      <td>0.0</td>\n",
       "      <td>0.0</td>\n",
       "      <td>0.0</td>\n",
       "      <td>689.0</td>\n",
       "      <td>0.0</td>\n",
       "      <td>0.0</td>\n",
       "      <td>0.0</td>\n",
       "      <td>0.0</td>\n",
       "      <td>1</td>\n",
       "    </tr>\n",
       "    <tr>\n",
       "      <th>1</th>\n",
       "      <td>2</td>\n",
       "      <td>120000.0</td>\n",
       "      <td>2</td>\n",
       "      <td>2</td>\n",
       "      <td>2</td>\n",
       "      <td>26</td>\n",
       "      <td>-1</td>\n",
       "      <td>2</td>\n",
       "      <td>0</td>\n",
       "      <td>0</td>\n",
       "      <td>...</td>\n",
       "      <td>3272.0</td>\n",
       "      <td>3455.0</td>\n",
       "      <td>3261.0</td>\n",
       "      <td>0.0</td>\n",
       "      <td>1000.0</td>\n",
       "      <td>1000.0</td>\n",
       "      <td>1000.0</td>\n",
       "      <td>0.0</td>\n",
       "      <td>2000.0</td>\n",
       "      <td>1</td>\n",
       "    </tr>\n",
       "    <tr>\n",
       "      <th>2</th>\n",
       "      <td>3</td>\n",
       "      <td>90000.0</td>\n",
       "      <td>2</td>\n",
       "      <td>2</td>\n",
       "      <td>2</td>\n",
       "      <td>34</td>\n",
       "      <td>0</td>\n",
       "      <td>0</td>\n",
       "      <td>0</td>\n",
       "      <td>0</td>\n",
       "      <td>...</td>\n",
       "      <td>14331.0</td>\n",
       "      <td>14948.0</td>\n",
       "      <td>15549.0</td>\n",
       "      <td>1518.0</td>\n",
       "      <td>1500.0</td>\n",
       "      <td>1000.0</td>\n",
       "      <td>1000.0</td>\n",
       "      <td>1000.0</td>\n",
       "      <td>5000.0</td>\n",
       "      <td>0</td>\n",
       "    </tr>\n",
       "    <tr>\n",
       "      <th>3</th>\n",
       "      <td>4</td>\n",
       "      <td>50000.0</td>\n",
       "      <td>2</td>\n",
       "      <td>2</td>\n",
       "      <td>1</td>\n",
       "      <td>37</td>\n",
       "      <td>0</td>\n",
       "      <td>0</td>\n",
       "      <td>0</td>\n",
       "      <td>0</td>\n",
       "      <td>...</td>\n",
       "      <td>28314.0</td>\n",
       "      <td>28959.0</td>\n",
       "      <td>29547.0</td>\n",
       "      <td>2000.0</td>\n",
       "      <td>2019.0</td>\n",
       "      <td>1200.0</td>\n",
       "      <td>1100.0</td>\n",
       "      <td>1069.0</td>\n",
       "      <td>1000.0</td>\n",
       "      <td>0</td>\n",
       "    </tr>\n",
       "    <tr>\n",
       "      <th>4</th>\n",
       "      <td>5</td>\n",
       "      <td>50000.0</td>\n",
       "      <td>1</td>\n",
       "      <td>2</td>\n",
       "      <td>1</td>\n",
       "      <td>57</td>\n",
       "      <td>-1</td>\n",
       "      <td>0</td>\n",
       "      <td>-1</td>\n",
       "      <td>0</td>\n",
       "      <td>...</td>\n",
       "      <td>20940.0</td>\n",
       "      <td>19146.0</td>\n",
       "      <td>19131.0</td>\n",
       "      <td>2000.0</td>\n",
       "      <td>36681.0</td>\n",
       "      <td>10000.0</td>\n",
       "      <td>9000.0</td>\n",
       "      <td>689.0</td>\n",
       "      <td>679.0</td>\n",
       "      <td>0</td>\n",
       "    </tr>\n",
       "  </tbody>\n",
       "</table>\n",
       "<p>5 rows × 25 columns</p>\n",
       "</div>"
      ],
      "text/plain": [
       "   ID  LIMIT_BAL  SEX  EDUCATION  MARRIAGE  AGE  PAY_0  PAY_2  PAY_3  PAY_4  \\\n",
       "0   1    20000.0    2          2         1   24      2      2     -1     -1   \n",
       "1   2   120000.0    2          2         2   26     -1      2      0      0   \n",
       "2   3    90000.0    2          2         2   34      0      0      0      0   \n",
       "3   4    50000.0    2          2         1   37      0      0      0      0   \n",
       "4   5    50000.0    1          2         1   57     -1      0     -1      0   \n",
       "\n",
       "   ...  BILL_AMT4  BILL_AMT5  BILL_AMT6  PAY_AMT1  PAY_AMT2  PAY_AMT3  \\\n",
       "0  ...        0.0        0.0        0.0       0.0     689.0       0.0   \n",
       "1  ...     3272.0     3455.0     3261.0       0.0    1000.0    1000.0   \n",
       "2  ...    14331.0    14948.0    15549.0    1518.0    1500.0    1000.0   \n",
       "3  ...    28314.0    28959.0    29547.0    2000.0    2019.0    1200.0   \n",
       "4  ...    20940.0    19146.0    19131.0    2000.0   36681.0   10000.0   \n",
       "\n",
       "   PAY_AMT4  PAY_AMT5  PAY_AMT6  default.payment.next.month  \n",
       "0       0.0       0.0       0.0                           1  \n",
       "1    1000.0       0.0    2000.0                           1  \n",
       "2    1000.0    1000.0    5000.0                           0  \n",
       "3    1100.0    1069.0    1000.0                           0  \n",
       "4    9000.0     689.0     679.0                           0  \n",
       "\n",
       "[5 rows x 25 columns]"
      ]
     },
     "execution_count": 3,
     "metadata": {},
     "output_type": "execute_result"
    }
   ],
   "source": [
    "credit_card_df = pd.read_csv(\"data/UCI_Credit_Card.csv\")\n",
    "credit_card_df.head(5)"
   ]
  },
  {
   "cell_type": "code",
   "execution_count": 4,
   "metadata": {},
   "outputs": [
    {
     "name": "stdout",
     "output_type": "stream",
     "text": [
      "<class 'pandas.core.frame.DataFrame'>\n",
      "RangeIndex: 30000 entries, 0 to 29999\n",
      "Data columns (total 25 columns):\n",
      " #   Column                      Non-Null Count  Dtype  \n",
      "---  ------                      --------------  -----  \n",
      " 0   ID                          30000 non-null  int64  \n",
      " 1   LIMIT_BAL                   30000 non-null  float64\n",
      " 2   SEX                         30000 non-null  int64  \n",
      " 3   EDUCATION                   30000 non-null  int64  \n",
      " 4   MARRIAGE                    30000 non-null  int64  \n",
      " 5   AGE                         30000 non-null  int64  \n",
      " 6   PAY_0                       30000 non-null  int64  \n",
      " 7   PAY_2                       30000 non-null  int64  \n",
      " 8   PAY_3                       30000 non-null  int64  \n",
      " 9   PAY_4                       30000 non-null  int64  \n",
      " 10  PAY_5                       30000 non-null  int64  \n",
      " 11  PAY_6                       30000 non-null  int64  \n",
      " 12  BILL_AMT1                   30000 non-null  float64\n",
      " 13  BILL_AMT2                   30000 non-null  float64\n",
      " 14  BILL_AMT3                   30000 non-null  float64\n",
      " 15  BILL_AMT4                   30000 non-null  float64\n",
      " 16  BILL_AMT5                   30000 non-null  float64\n",
      " 17  BILL_AMT6                   30000 non-null  float64\n",
      " 18  PAY_AMT1                    30000 non-null  float64\n",
      " 19  PAY_AMT2                    30000 non-null  float64\n",
      " 20  PAY_AMT3                    30000 non-null  float64\n",
      " 21  PAY_AMT4                    30000 non-null  float64\n",
      " 22  PAY_AMT5                    30000 non-null  float64\n",
      " 23  PAY_AMT6                    30000 non-null  float64\n",
      " 24  default.payment.next.month  30000 non-null  int64  \n",
      "dtypes: float64(13), int64(12)\n",
      "memory usage: 5.7 MB\n"
     ]
    }
   ],
   "source": [
    "credit_card_df.info()"
   ]
  },
  {
   "cell_type": "code",
   "execution_count": 5,
   "metadata": {},
   "outputs": [
    {
     "data": {
      "text/plain": [
       "(30000, 25)"
      ]
     },
     "execution_count": 5,
     "metadata": {},
     "output_type": "execute_result"
    }
   ],
   "source": [
    "credit_card_df.shape"
   ]
  },
  {
   "cell_type": "markdown",
   "metadata": {},
   "source": [
    "As seen from above, the data set does not possess any missing values. \n",
    "\n",
    "We have decided not to change the feature names are not changed, as we find them explanatory as such. "
   ]
  },
  {
   "cell_type": "markdown",
   "metadata": {},
   "source": [
    "<br><br>"
   ]
  },
  {
   "cell_type": "markdown",
   "metadata": {},
   "source": [
    "## 2. Data splitting <a name=\"2\"></a>\n",
    "<hr>\n",
    "1. Split the data into train and test portions.\n"
   ]
  },
  {
   "cell_type": "code",
   "execution_count": 6,
   "metadata": {},
   "outputs": [],
   "source": [
    "train_df, test_df = train_test_split(credit_card_df, test_size = 0.3, random_state=123)\n",
    "\n",
    "#target column name\n",
    "target = 'default.payment.next.month'\n",
    "\n",
    "X_train, y_train = train_df.drop(columns=[target]), train_df[target]\n",
    "X_test, y_test = test_df.drop(columns=[target]), test_df[target]"
   ]
  },
  {
   "cell_type": "code",
   "execution_count": 7,
   "metadata": {},
   "outputs": [
    {
     "name": "stdout",
     "output_type": "stream",
     "text": [
      "The number of observations for train set:  21000\n",
      "The number of observations for test set:  9000\n"
     ]
    }
   ],
   "source": [
    "# printing the number of observations for train and test sets\n",
    "print('The number of observations for train set: ', train_df[target].shape[0])\n",
    "print('The number of observations for test set: ', test_df[target].shape[0])"
   ]
  },
  {
   "cell_type": "markdown",
   "metadata": {},
   "source": [
    "</br> We decided to have 30% of the observations in the test data and 70% in the train data set. Overall the data set has 30,000 observations, thus the test set should have enough examples to provide good affirmation for the model: more precisely, the train set will have 21000 observations, and test set 9000."
   ]
  },
  {
   "cell_type": "markdown",
   "metadata": {},
   "source": [
    "<br><br>"
   ]
  },
  {
   "cell_type": "markdown",
   "metadata": {},
   "source": [
    "## 3. EDA <a name=\"3\"></a>\n",
    "<hr>"
   ]
  },
  {
   "cell_type": "code",
   "execution_count": 8,
   "metadata": {},
   "outputs": [],
   "source": [
    "# percentage of zeros and ones in default column train set\n",
    "train_percent_defaults = train_df[target].value_counts(normalize=True) * 100\n",
    "train_percent_defaults.name = 'Default Count Percent'\n",
    "\n",
    "# count of observations were default is one or zero in train set \n",
    "train_yes_default = len(train_df[train_df[target] == 1])\n",
    "train_no_default = len(train_df[train_df[target] == 0])"
   ]
  },
  {
   "cell_type": "code",
   "execution_count": 9,
   "metadata": {},
   "outputs": [
    {
     "data": {
      "text/html": [
       "<div>\n",
       "<style scoped>\n",
       "    .dataframe tbody tr th:only-of-type {\n",
       "        vertical-align: middle;\n",
       "    }\n",
       "\n",
       "    .dataframe tbody tr th {\n",
       "        vertical-align: top;\n",
       "    }\n",
       "\n",
       "    .dataframe thead th {\n",
       "        text-align: right;\n",
       "    }\n",
       "</style>\n",
       "<table border=\"1\" class=\"dataframe\">\n",
       "  <thead>\n",
       "    <tr style=\"text-align: right;\">\n",
       "      <th></th>\n",
       "      <th>Default Count Percent</th>\n",
       "      <th>Count</th>\n",
       "    </tr>\n",
       "  </thead>\n",
       "  <tbody>\n",
       "    <tr>\n",
       "      <th>No (0)</th>\n",
       "      <td>77.67619</td>\n",
       "      <td>16312</td>\n",
       "    </tr>\n",
       "    <tr>\n",
       "      <th>Yes (1)</th>\n",
       "      <td>22.32381</td>\n",
       "      <td>4688</td>\n",
       "    </tr>\n",
       "  </tbody>\n",
       "</table>\n",
       "</div>"
      ],
      "text/plain": [
       "         Default Count Percent  Count\n",
       "No (0)                77.67619  16312\n",
       "Yes (1)               22.32381   4688"
      ]
     },
     "execution_count": 9,
     "metadata": {},
     "output_type": "execute_result"
    }
   ],
   "source": [
    "# convert to a dataframe and make column names readable\n",
    "default_percent_df = pd.DataFrame(train_percent_defaults)\n",
    "default_percent_df = default_percent_df.rename(index = {0: 'No (0)', 1: 'Yes (1)'})\n",
    "\n",
    "# make a dictionary of classes count values \n",
    "count_dic_no = {\"Count\": train_no_default \n",
    "               }\n",
    "\n",
    "count_dic_yes = {\"Count\": train_yes_default\n",
    "                }\n",
    "\n",
    "# make a list from classes default payment counts \n",
    "list_default = [count_dic_no, count_dic_yes]\n",
    "\n",
    "# convert to a dataframe\n",
    "default_count = pd.DataFrame(list_default, index = ['No (0)', 'Yes (1)'])\n",
    "\n",
    "# join two dataframes\n",
    "df_default = default_percent_df.join(default_count)\n",
    "df_default"
   ]
  },
  {
   "cell_type": "code",
   "execution_count": 10,
   "metadata": {},
   "outputs": [
    {
     "data": {
      "image/png": "[encoded data removed]",
      "text/plain": [
       "<Figure size 432x288 with 1 Axes>"
      ]
     },
     "metadata": {},
     "output_type": "display_data"
    }
   ],
   "source": [
    "# Make a pie chart\n",
    "df_default['Default Count Percent'].plot(kind='pie',labels = ['',''], autopct='%1.1f%%',\n",
    "                        explode = [0,0.05], textprops = {\"fontsize\":15})\n",
    "\n",
    "plt.legend(labels=['No Default', 'Default'])\n",
    "plt.show()"
   ]
  },
  {
   "cell_type": "markdown",
   "metadata": {},
   "source": [
    "3. The count, as well as percentage of overall distribution of classes indicates that there is an imbalance between No (0) and Yes (1) classes. Overall, we are more interested in minimizing Type I error (predicting no default payment, when in reality the client made a default payment the following month), as opposed to Type II error (predicting default payment, when in reality no default payment was made by the client). For the creditors, it is for upmost importance to have the model that correctly predicts the account’s next month status, especially if the client is going to make a default payment. The correct prediction will help creditors to plan their risk and budget management better and take steps before the situation gets out of control."
   ]
  },
  {
   "cell_type": "code",
   "execution_count": 11,
   "metadata": {},
   "outputs": [],
   "source": [
    "scoring_metric = [\"f1\", \"recall\", \"average_precision\"]"
   ]
  },
  {
   "cell_type": "markdown",
   "metadata": {},
   "source": [
    "4. Therefore, as we have class imbalance, accuracy will not be used for evaluation of the model. The chosen scoring metric includes F1 score, recall, and average precision. F1 score is the harmonic mean of recall and precision score providing a good idea about both scores, thus it will be our primary scoring metric throughout evaluation. "
   ]
  },
  {
   "cell_type": "markdown",
   "metadata": {},
   "source": [
    "Let's examine the relation between the amount of given credit and the default accounts. As the examination is for the credit companies, the amount of given credit to the person should reflect the trust the company has towards individual. Thus the relation between default and given credit amount is at upmost interest for our analysis. "
   ]
  },
  {
   "cell_type": "code",
   "execution_count": 12,
   "metadata": {},
   "outputs": [
    {
     "data": {
      "image/png": "[encoded data removed]",
      "text/plain": [
       "<Figure size 432x288 with 1 Axes>"
      ]
     },
     "metadata": {
      "needs_background": "light"
     },
     "output_type": "display_data"
    }
   ],
   "source": [
    "#Plot the histograms: Extracted from skeleton code from lab2, 571 class \n",
    "ax = train_df.groupby(target)['LIMIT_BAL'].plot.hist(bins=20, alpha=0.5, legend=True)\n",
    "plt.xlabel('LIMIT_BAL')\n",
    "plt.title(\"Histogram of given credit\")\n",
    "plt.legend(labels=['No Default', 'Default'])\n",
    "plt.ylabel(\"Default Frequency\", fontsize= 12)\n",
    "plt.ticklabel_format(style='plain', axis='x')\n",
    "\n",
    "plt.show()"
   ]
  },
  {
   "cell_type": "markdown",
   "metadata": {},
   "source": [
    "Indeed we can see from the plot, that as the amount of given credit is getting higher, the less accounts tend to have defaults. \n",
    "\n",
    "By looking at the relation of bill statements and frequency of defaulting the credit, we see the same relation: higher bill statement results in less default accounts."
   ]
  },
  {
   "cell_type": "code",
   "execution_count": 13,
   "metadata": {},
   "outputs": [],
   "source": [
    "#Column names for bill payment\n",
    "numeric_cols_bill = ['BILL_AMT1', 'BILL_AMT2',\n",
    "                'BILL_AMT3', 'BILL_AMT4','BILL_AMT5']"
   ]
  },
  {
   "cell_type": "code",
   "execution_count": 14,
   "metadata": {},
   "outputs": [
    {
     "data": {
      "image/png": "[encoded data removed]",
      "text/plain": [
       "<Figure size 1080x864 with 5 Axes>"
      ]
     },
     "metadata": {
      "needs_background": "light"
     },
     "output_type": "display_data"
    }
   ],
   "source": [
    "#Specifying the size of figures\n",
    "plt.figure(figsize=(15,12))\n",
    "\n",
    "# Plot the histograms: Extracted from skeleton code from lab2, 571 class\n",
    "for i, col in enumerate(numeric_cols_bill):\n",
    "    plt.subplot(3, 2, i + 1)\n",
    "    ax = train_df.groupby(target)[col].plot.hist(bins=50, alpha=0.5, legend=True)\n",
    "    plt.xlabel(col)\n",
    "    plt.title(\"Histogram of \" + col)\n",
    "    plt.legend(labels=['No Default', 'Default'])\n",
    "    plt.ylabel(\"Default Frequency\", fontsize= 12)\n",
    "    plt.tight_layout()\n",
    "    \n",
    "plt.show()"
   ]
  },
  {
   "cell_type": "markdown",
   "metadata": {},
   "source": [
    "We should be very careful while examining such sensitive data as the gender. As shown in the Table below, we have more females, than males in our data set."
   ]
  },
  {
   "cell_type": "code",
   "execution_count": 15,
   "metadata": {},
   "outputs": [
    {
     "data": {
      "text/html": [
       "<div>\n",
       "<style scoped>\n",
       "    .dataframe tbody tr th:only-of-type {\n",
       "        vertical-align: middle;\n",
       "    }\n",
       "\n",
       "    .dataframe tbody tr th {\n",
       "        vertical-align: top;\n",
       "    }\n",
       "\n",
       "    .dataframe thead th {\n",
       "        text-align: right;\n",
       "    }\n",
       "</style>\n",
       "<table border=\"1\" class=\"dataframe\">\n",
       "  <thead>\n",
       "    <tr style=\"text-align: right;\">\n",
       "      <th></th>\n",
       "      <th>Count</th>\n",
       "    </tr>\n",
       "  </thead>\n",
       "  <tbody>\n",
       "    <tr>\n",
       "      <th>Male</th>\n",
       "      <td>4688</td>\n",
       "    </tr>\n",
       "    <tr>\n",
       "      <th>Female</th>\n",
       "      <td>16312</td>\n",
       "    </tr>\n",
       "  </tbody>\n",
       "</table>\n",
       "</div>"
      ],
      "text/plain": [
       "        Count\n",
       "Male     4688\n",
       "Female  16312"
      ]
     },
     "execution_count": 15,
     "metadata": {},
     "output_type": "execute_result"
    }
   ],
   "source": [
    "#count of observations were default is one or zero in train set \n",
    "train_gender_male = len(train_df[train_df[target] == 1])\n",
    "train_gender_female = len(train_df[train_df[target] == 0])\n",
    "\n",
    "#make a dictionary of classes count values \n",
    "count_dic_male = {\"Count\": train_gender_male \n",
    "               }\n",
    "\n",
    "count_dic_female = {\"Count\": train_gender_female\n",
    "                }\n",
    "\n",
    "#make a list \n",
    "list_gender = [count_dic_male, count_dic_female]\n",
    "\n",
    "#make a dataframe\n",
    "gender_count = pd.DataFrame(list_gender, index = ['Male', 'Female'])\n",
    "gender_count"
   ]
  },
  {
   "cell_type": "markdown",
   "metadata": {},
   "source": [
    "But we can see from the diagram and summary statistic table, that the likelihood of males to make a default payment is higher than for females. This is interesting observation, however we acknowledge that we are dealing with the limited amount of data and that other factors may have influenced such statistics. Usage of sensitive data such as gender should be at upmost importance, but as our model is not causing direct harm to a particular group, we decide to keep it among our features."
   ]
  },
  {
   "cell_type": "code",
   "execution_count": 16,
   "metadata": {},
   "outputs": [
    {
     "data": {
      "text/html": [
       "<div>\n",
       "<style scoped>\n",
       "    .dataframe tbody tr th:only-of-type {\n",
       "        vertical-align: middle;\n",
       "    }\n",
       "\n",
       "    .dataframe tbody tr th {\n",
       "        vertical-align: top;\n",
       "    }\n",
       "\n",
       "    .dataframe thead th {\n",
       "        text-align: right;\n",
       "    }\n",
       "</style>\n",
       "<table border=\"1\" class=\"dataframe\">\n",
       "  <thead>\n",
       "    <tr style=\"text-align: right;\">\n",
       "      <th></th>\n",
       "      <th>Default Percentage</th>\n",
       "    </tr>\n",
       "  </thead>\n",
       "  <tbody>\n",
       "    <tr>\n",
       "      <th>Male</th>\n",
       "      <td>55.84471</td>\n",
       "    </tr>\n",
       "    <tr>\n",
       "      <th>Female</th>\n",
       "      <td>44.15529</td>\n",
       "    </tr>\n",
       "  </tbody>\n",
       "</table>\n",
       "</div>"
      ],
      "text/plain": [
       "        Default Percentage\n",
       "Male              55.84471\n",
       "Female            44.15529"
      ]
     },
     "execution_count": 16,
     "metadata": {},
     "output_type": "execute_result"
    }
   ],
   "source": [
    "#get the percentage of the likelihood of default vs no default payment by gender\n",
    "gender_default_percent = pd.DataFrame(train_df.groupby(target)['SEX'].value_counts(normalize = True) * 100)\n",
    "\n",
    "#save in the dictionary the values for the percentage of default payment only\n",
    "dict_gender = {'Default Percentage': gender_default_percent['SEX'].values.tolist()[2:]\n",
    "              }\n",
    "\n",
    "df_gender = pd.DataFrame(dict_gender, index = [\"Male\", \"Female\"])\n",
    "df_gender"
   ]
  },
  {
   "cell_type": "code",
   "execution_count": 17,
   "metadata": {},
   "outputs": [
    {
     "data": {
      "image/png": "[encoded data removed]",
      "text/plain": [
       "<Figure size 432x288 with 1 Axes>"
      ]
     },
     "metadata": {},
     "output_type": "display_data"
    }
   ],
   "source": [
    "df_gender['Default Percentage'].plot(kind='pie',labels = ['',''], autopct='%1.1f%%',\n",
    "                        explode = [0,0.05], textprops = {\"fontsize\":15})\n",
    "\n",
    "plt.legend(labels=['Male', 'Female'])\n",
    "plt.show()"
   ]
  },
  {
   "cell_type": "markdown",
   "metadata": {},
   "source": [
    "<br><br>"
   ]
  },
  {
   "cell_type": "markdown",
   "metadata": {},
   "source": [
    "## 4. Feature engineering <a name=\"3\"></a>\n",
    "<hr>"
   ]
  },
  {
   "cell_type": "markdown",
   "metadata": {},
   "source": [
    "We decided to add the features 'avg_bill_amt' and 'avg_pay_amt'. Apart from having individual payment/bill columns, such as PAY_0 to PAY_6 and BILL_AMT1 to BILL_AMT6, adding the average pay column ('avg_pay_amt') and average bill column ('avg_bill_amt') will better reflect the overall credit card payment/spending pattern as they would possibly provide useful information to train the model."
   ]
  },
  {
   "cell_type": "code",
   "execution_count": 18,
   "metadata": {},
   "outputs": [],
   "source": [
    "X_train[\"avg_bill_amt\"] = X_train.loc[:, \"BILL_AMT1\":\"BILL_AMT6\"].mean(axis=1)\n",
    "X_train[\"avg_pay_amt\"] = X_train.loc[:, \"PAY_AMT1\":\"PAY_AMT6\"].mean(axis=1)\n",
    "\n",
    "X_test[\"avg_bill_amt\"] = X_test.loc[:, \"BILL_AMT1\":\"BILL_AMT6\"].mean(axis=1)\n",
    "X_test[\"avg_pay_amt\"] = X_test.loc[:, \"PAY_AMT1\":\"PAY_AMT6\"].mean(axis=1)\n",
    "\n",
    "# convert feature types for later value reordering\n",
    "X_train = X_train.astype(\n",
    "    {\n",
    "        \"PAY_0\": \"str\",\n",
    "        \"PAY_2\": \"str\",\n",
    "        \"PAY_3\": \"str\",\n",
    "        \"PAY_4\": \"str\",\n",
    "        \"PAY_5\": \"str\",\n",
    "        \"PAY_6\": \"str\",\n",
    "    }\n",
    ")\n",
    "\n",
    "# convert feature types for later value reordering\n",
    "X_test = X_test.astype(\n",
    "    {\n",
    "        \"PAY_0\": \"str\",\n",
    "        \"PAY_2\": \"str\",\n",
    "        \"PAY_3\": \"str\",\n",
    "        \"PAY_4\": \"str\",\n",
    "        \"PAY_5\": \"str\",\n",
    "        \"PAY_6\": \"str\",\n",
    "    }\n",
    ")"
   ]
  },
  {
   "cell_type": "markdown",
   "metadata": {},
   "source": [
    "<br><br>"
   ]
  },
  {
   "cell_type": "markdown",
   "metadata": {},
   "source": [
    "## 5. Preprocessing and transformations <a name=\"5\"></a>\n",
    "<hr>"
   ]
  },
  {
   "cell_type": "markdown",
   "metadata": {},
   "source": [
    "|     Type | Reason                                                                                                                                                                                                                                         | Features                                                                                                                                                                                                |\n",
    "|---------:|------------------------------------------------------------------------------------------------------------------------------------------------------------------------------------------------------------------------------------------------|---------------------------------------------------------------------------------------------------------------------------------------------------------------------------------------------------------|\n",
    "| category |All of these features have fixed number of categories. `MARRIAGE` has 4 classes, and we consider it as categorical instead of ordinal feature because we didn't want to be biased and rank different status in any particular order, similar reasoning for `SEX` feature. For `EDUCATION`, there are some values shown as `unknown` and `others`. Since the meanings behind them are vague, we do not want to group them together as they may have unique patterns among all the `unknowns` or all the `others`, thus we decided to treat them as categorical feature.  | `SEX`, `MARRIAGE`, `EDUCATION`                                                                                                                                                                          |\n",
    "| ordinal  | Sequential numbers ranged from -2 to 8 (-2 as the best, 8 as the worst).                                                                                                                                                                       | `PAY_0`, `PAY_2`, `PAY_3`, `PAY_4`, `PAY_5`, `PAY_6`                                                                                                                                                    |\n",
    "| numeric  | Numeric columns needs standardization                                                                                                                                                                                                                       | `PAY_AMT1`, `PAY_AMT2`, `PAY_AMT5`, `AGE`, `BILL_AMT5`, `PAY_AMT4`, `BILL_AMT6`, `BILL_AMT2`, `BILL_AMT4`, `LIMIT_BAL`, `BILL_AMT1`, `BILL_AMT3`, `avg_bill_amt`, `avg_pay_amt`, `PAY_AMT3`, `PAY_AMT6` |\n",
    "| drop     | Unique identifier for every record in the data set (wouldn't be helpful for model training)                                                                                                                                                                                                         | `ID`                                                                                                                                                                                                    |"
   ]
  },
  {
   "cell_type": "code",
   "execution_count": 19,
   "metadata": {},
   "outputs": [],
   "source": [
    "# differing orders were requires as PAY_5 and PAY_6 were missing a value\n",
    "ordering_pay0_pay4 = ['8', '7', '6', '5', '4', '3', '2', '1', '0', '-1', '-2']\n",
    "ordering_pay5_pay6 = ['8', '7', '6', '5', '4', '3', '2', '0', '-1', '-2']"
   ]
  },
  {
   "cell_type": "code",
   "execution_count": 20,
   "metadata": {},
   "outputs": [
    {
     "data": {
      "text/plain": [
       "ColumnTransformer(transformers=[('drop', 'drop', ['ID']),\n",
       "                                ('standardscaler', StandardScaler(),\n",
       "                                 ['PAY_AMT3', 'PAY_AMT2', 'PAY_AMT5',\n",
       "                                  'BILL_AMT6', 'PAY_AMT4', 'BILL_AMT2',\n",
       "                                  'PAY_AMT6', 'BILL_AMT5', 'avg_pay_amt', 'AGE',\n",
       "                                  'BILL_AMT3', 'BILL_AMT1', 'PAY_AMT1',\n",
       "                                  'avg_bill_amt', 'BILL_AMT4', 'LIMIT_BAL']),\n",
       "                                ('ordinalencoder-1',\n",
       "                                 OrdinalEncoder(categories=[['8', '7', '6', '5',\n",
       "                                                             '4', '3',...\n",
       "                                                             '0', '-1', '-2'],\n",
       "                                                            ['8', '7', '6', '5',\n",
       "                                                             '4', '3', '2', '1',\n",
       "                                                             '0', '-1',\n",
       "                                                             '-2']]),\n",
       "                                 ['PAY_0', 'PAY_2', 'PAY_3', 'PAY_4']),\n",
       "                                ('ordinalencoder-2',\n",
       "                                 OrdinalEncoder(categories=[['8', '7', '6', '5',\n",
       "                                                             '4', '3', '2', '0',\n",
       "                                                             '-1', '-2'],\n",
       "                                                            ['8', '7', '6', '5',\n",
       "                                                             '4', '3', '2', '0',\n",
       "                                                             '-1', '-2']]),\n",
       "                                 ['PAY_5', 'PAY_6']),\n",
       "                                ('onehotencoder',\n",
       "                                 OneHotEncoder(handle_unknown='ignore',\n",
       "                                               sparse=False),\n",
       "                                 ['SEX', 'MARRIAGE', 'EDUCATION'])])"
      ]
     },
     "execution_count": 20,
     "metadata": {},
     "output_type": "execute_result"
    }
   ],
   "source": [
    "category_feats = [\"SEX\", \"MARRIAGE\", \"EDUCATION\"]\n",
    "ordinal_feats_pay_1 = ['PAY_0', 'PAY_2', 'PAY_3', 'PAY_4']\n",
    "ordinal_feats_pay_2 = ['PAY_5', 'PAY_6']\n",
    "ordering_pay_1 = [ordering_pay0_pay4] * len(ordinal_feats_pay_1)\n",
    "ordering_pay_2 = [ordering_pay5_pay6] * len(ordinal_feats_pay_2)\n",
    "drop_feats = ['ID']\n",
    "\n",
    "numeric_feats  = list(set(X_train.columns)\n",
    "            - set(category_feats)\n",
    "            - set(ordinal_feats_pay_1)\n",
    "            - set(ordinal_feats_pay_2)\n",
    "            - set(drop_feats)\n",
    "        )\n",
    "\n",
    "preprocessor = make_column_transformer(\n",
    "    (\"drop\", drop_feats),\n",
    "    (StandardScaler(), numeric_feats),\n",
    "    (OrdinalEncoder(categories=ordering_pay_1), ordinal_feats_pay_1),\n",
    "    (OrdinalEncoder(categories=ordering_pay_2), ordinal_feats_pay_2),\n",
    "    (OneHotEncoder(handle_unknown=\"ignore\", sparse=False), category_feats),\n",
    ")\n",
    "preprocessor.fit(X_train, y_train)"
   ]
  },
  {
   "cell_type": "markdown",
   "metadata": {},
   "source": [
    "<br><br><br><br>"
   ]
  },
  {
   "cell_type": "markdown",
   "metadata": {},
   "source": [
    "## 6. Baseline model <a name=\"6\"></a>\n",
    "<hr>"
   ]
  },
  {
   "cell_type": "code",
   "execution_count": 21,
   "metadata": {},
   "outputs": [],
   "source": [
    "results = {}"
   ]
  },
  {
   "cell_type": "code",
   "execution_count": 22,
   "metadata": {},
   "outputs": [],
   "source": [
    "dummy = DummyClassifier()\n",
    "baseline_pipe = make_pipeline(preprocessor, dummy)\n",
    "results['dummy'] = mean_std_cross_val_scores(make_pipeline(preprocessor, dummy), X_train, y_train, \n",
    "                                             return_train_score=True, scoring=scoring_metric)"
   ]
  },
  {
   "cell_type": "code",
   "execution_count": 23,
   "metadata": {},
   "outputs": [
    {
     "data": {
      "text/html": [
       "<div>\n",
       "<style scoped>\n",
       "    .dataframe tbody tr th:only-of-type {\n",
       "        vertical-align: middle;\n",
       "    }\n",
       "\n",
       "    .dataframe tbody tr th {\n",
       "        vertical-align: top;\n",
       "    }\n",
       "\n",
       "    .dataframe thead th {\n",
       "        text-align: right;\n",
       "    }\n",
       "</style>\n",
       "<table border=\"1\" class=\"dataframe\">\n",
       "  <thead>\n",
       "    <tr style=\"text-align: right;\">\n",
       "      <th></th>\n",
       "      <th>fit_time</th>\n",
       "      <th>score_time</th>\n",
       "      <th>test_f1</th>\n",
       "      <th>train_f1</th>\n",
       "      <th>test_recall</th>\n",
       "      <th>train_recall</th>\n",
       "      <th>test_average_precision</th>\n",
       "      <th>train_average_precision</th>\n",
       "    </tr>\n",
       "  </thead>\n",
       "  <tbody>\n",
       "    <tr>\n",
       "      <th>dummy</th>\n",
       "      <td>0.036 (+/- 0.007)</td>\n",
       "      <td>0.022 (+/- 0.001)</td>\n",
       "      <td>0.000 (+/- 0.000)</td>\n",
       "      <td>0.000 (+/- 0.000)</td>\n",
       "      <td>0.000 (+/- 0.000)</td>\n",
       "      <td>0.000 (+/- 0.000)</td>\n",
       "      <td>0.223 (+/- 0.000)</td>\n",
       "      <td>0.223 (+/- 0.000)</td>\n",
       "    </tr>\n",
       "  </tbody>\n",
       "</table>\n",
       "</div>"
      ],
      "text/plain": [
       "                fit_time         score_time            test_f1  \\\n",
       "dummy  0.036 (+/- 0.007)  0.022 (+/- 0.001)  0.000 (+/- 0.000)   \n",
       "\n",
       "                train_f1        test_recall       train_recall  \\\n",
       "dummy  0.000 (+/- 0.000)  0.000 (+/- 0.000)  0.000 (+/- 0.000)   \n",
       "\n",
       "      test_average_precision train_average_precision  \n",
       "dummy      0.223 (+/- 0.000)       0.223 (+/- 0.000)  "
      ]
     },
     "execution_count": 23,
     "metadata": {},
     "output_type": "execute_result"
    }
   ],
   "source": [
    "pd.DataFrame(results).T"
   ]
  },
  {
   "cell_type": "markdown",
   "metadata": {},
   "source": [
    "<br><br>"
   ]
  },
  {
   "cell_type": "markdown",
   "metadata": {},
   "source": [
    "## 7. Linear models <a name=\"7\"></a>\n",
    "<hr>"
   ]
  },
  {
   "cell_type": "code",
   "execution_count": 24,
   "metadata": {},
   "outputs": [],
   "source": [
    "#pipe logistic regression\n",
    "pipe_logisticregression = make_pipeline(preprocessor,\n",
    "                           LogisticRegression(max_iter=2000, \n",
    "                                             random_state=123))"
   ]
  },
  {
   "cell_type": "code",
   "execution_count": 25,
   "metadata": {},
   "outputs": [
    {
     "data": {
      "text/html": [
       "<div>\n",
       "<style scoped>\n",
       "    .dataframe tbody tr th:only-of-type {\n",
       "        vertical-align: middle;\n",
       "    }\n",
       "\n",
       "    .dataframe tbody tr th {\n",
       "        vertical-align: top;\n",
       "    }\n",
       "\n",
       "    .dataframe thead th {\n",
       "        text-align: right;\n",
       "    }\n",
       "</style>\n",
       "<table border=\"1\" class=\"dataframe\">\n",
       "  <thead>\n",
       "    <tr style=\"text-align: right;\">\n",
       "      <th></th>\n",
       "      <th>dummy</th>\n",
       "      <th>LogisticReg</th>\n",
       "    </tr>\n",
       "  </thead>\n",
       "  <tbody>\n",
       "    <tr>\n",
       "      <th>fit_time</th>\n",
       "      <td>0.036 (+/- 0.007)</td>\n",
       "      <td>1.523 (+/- 0.200)</td>\n",
       "    </tr>\n",
       "    <tr>\n",
       "      <th>score_time</th>\n",
       "      <td>0.022 (+/- 0.001)</td>\n",
       "      <td>0.025 (+/- 0.002)</td>\n",
       "    </tr>\n",
       "    <tr>\n",
       "      <th>test_f1</th>\n",
       "      <td>0.000 (+/- 0.000)</td>\n",
       "      <td>0.372 (+/- 0.015)</td>\n",
       "    </tr>\n",
       "    <tr>\n",
       "      <th>train_f1</th>\n",
       "      <td>0.000 (+/- 0.000)</td>\n",
       "      <td>0.374 (+/- 0.008)</td>\n",
       "    </tr>\n",
       "    <tr>\n",
       "      <th>test_recall</th>\n",
       "      <td>0.000 (+/- 0.000)</td>\n",
       "      <td>0.254 (+/- 0.013)</td>\n",
       "    </tr>\n",
       "    <tr>\n",
       "      <th>train_recall</th>\n",
       "      <td>0.000 (+/- 0.000)</td>\n",
       "      <td>0.255 (+/- 0.007)</td>\n",
       "    </tr>\n",
       "    <tr>\n",
       "      <th>test_average_precision</th>\n",
       "      <td>0.223 (+/- 0.000)</td>\n",
       "      <td>0.507 (+/- 0.016)</td>\n",
       "    </tr>\n",
       "    <tr>\n",
       "      <th>train_average_precision</th>\n",
       "      <td>0.223 (+/- 0.000)</td>\n",
       "      <td>0.509 (+/- 0.004)</td>\n",
       "    </tr>\n",
       "  </tbody>\n",
       "</table>\n",
       "</div>"
      ],
      "text/plain": [
       "                                     dummy        LogisticReg\n",
       "fit_time                 0.036 (+/- 0.007)  1.523 (+/- 0.200)\n",
       "score_time               0.022 (+/- 0.001)  0.025 (+/- 0.002)\n",
       "test_f1                  0.000 (+/- 0.000)  0.372 (+/- 0.015)\n",
       "train_f1                 0.000 (+/- 0.000)  0.374 (+/- 0.008)\n",
       "test_recall              0.000 (+/- 0.000)  0.254 (+/- 0.013)\n",
       "train_recall             0.000 (+/- 0.000)  0.255 (+/- 0.007)\n",
       "test_average_precision   0.223 (+/- 0.000)  0.507 (+/- 0.016)\n",
       "train_average_precision  0.223 (+/- 0.000)  0.509 (+/- 0.004)"
      ]
     },
     "execution_count": 25,
     "metadata": {},
     "output_type": "execute_result"
    }
   ],
   "source": [
    "#save in the results logistic regression score\n",
    "results[\"LogisticReg\"] = mean_std_cross_val_scores(pipe_logisticregression, \n",
    "                                                   X_train, \n",
    "                                                   y_train, \n",
    "                                                   return_train_score=True,\n",
    "                                                   scoring = scoring_metric)\n",
    "pd.DataFrame(results)"
   ]
  },
  {
   "cell_type": "markdown",
   "metadata": {},
   "source": [
    "We will carry out hyperparameter optimization: C controls the regularization, and class_weight hyperparameter for tackling class imbalance. "
   ]
  },
  {
   "cell_type": "code",
   "execution_count": 26,
   "metadata": {},
   "outputs": [],
   "source": [
    "#parameters for logistic regression\n",
    "param_dist_lg = {'logisticregression__C': [0.001, 0.01, 0.1, 1, 10, 100, 1000],\n",
    "                 'logisticregression__class_weight': ['balanced', None]}\n",
    "\n",
    "#randomized search to find the best parameters\n",
    "random_search_lg = RandomizedSearchCV(\n",
    "    pipe_logisticregression, \n",
    "    param_dist_lg,\n",
    "    n_jobs=-1,\n",
    "    return_train_score=True,\n",
    "    scoring = scoring_metric,\n",
    "    refit='f1',\n",
    "    random_state=123\n",
    ")"
   ]
  },
  {
   "cell_type": "code",
   "execution_count": 27,
   "metadata": {},
   "outputs": [
    {
     "name": "stdout",
     "output_type": "stream",
     "text": [
      "Best parameter values are: {'logisticregression__class_weight': 'balanced', 'logisticregression__C': 0.1}\n",
      "Best cv score is: 0.4919653206118707\n"
     ]
    }
   ],
   "source": [
    "random_search_lg.fit(X_train, y_train)\n",
    "print(\"Best parameter values are:\", random_search_lg.best_params_)\n",
    "print(\"Best cv score is:\", random_search_lg.best_score_)"
   ]
  },
  {
   "cell_type": "code",
   "execution_count": 28,
   "metadata": {},
   "outputs": [],
   "source": [
    "#make optimized parameters pipeline\n",
    "pipe_logisticregression_opt = make_pipeline(preprocessor,\n",
    "                                            LogisticRegression(max_iter=2000,\n",
    "                                                               C = 0.1,\n",
    "                                                               class_weight = 'balanced',\n",
    "                                                               random_state=123))"
   ]
  },
  {
   "cell_type": "code",
   "execution_count": 29,
   "metadata": {},
   "outputs": [],
   "source": [
    "results['LogisticReg_opt'] = mean_std_cross_val_scores(pipe_logisticregression_opt, \n",
    "                                                       X_train, \n",
    "                                                       y_train, \n",
    "                                                       return_train_score=True,\n",
    "                                                       scoring = scoring_metric)"
   ]
  },
  {
   "cell_type": "code",
   "execution_count": 30,
   "metadata": {},
   "outputs": [
    {
     "data": {
      "text/html": [
       "<div>\n",
       "<style scoped>\n",
       "    .dataframe tbody tr th:only-of-type {\n",
       "        vertical-align: middle;\n",
       "    }\n",
       "\n",
       "    .dataframe tbody tr th {\n",
       "        vertical-align: top;\n",
       "    }\n",
       "\n",
       "    .dataframe thead th {\n",
       "        text-align: right;\n",
       "    }\n",
       "</style>\n",
       "<table border=\"1\" class=\"dataframe\">\n",
       "  <thead>\n",
       "    <tr style=\"text-align: right;\">\n",
       "      <th></th>\n",
       "      <th>dummy</th>\n",
       "      <th>LogisticReg</th>\n",
       "      <th>LogisticReg_opt</th>\n",
       "    </tr>\n",
       "  </thead>\n",
       "  <tbody>\n",
       "    <tr>\n",
       "      <th>fit_time</th>\n",
       "      <td>0.036 (+/- 0.007)</td>\n",
       "      <td>1.523 (+/- 0.200)</td>\n",
       "      <td>0.856 (+/- 0.144)</td>\n",
       "    </tr>\n",
       "    <tr>\n",
       "      <th>score_time</th>\n",
       "      <td>0.022 (+/- 0.001)</td>\n",
       "      <td>0.025 (+/- 0.002)</td>\n",
       "      <td>0.030 (+/- 0.002)</td>\n",
       "    </tr>\n",
       "    <tr>\n",
       "      <th>test_f1</th>\n",
       "      <td>0.000 (+/- 0.000)</td>\n",
       "      <td>0.372 (+/- 0.015)</td>\n",
       "      <td>0.492 (+/- 0.006)</td>\n",
       "    </tr>\n",
       "    <tr>\n",
       "      <th>train_f1</th>\n",
       "      <td>0.000 (+/- 0.000)</td>\n",
       "      <td>0.374 (+/- 0.008)</td>\n",
       "      <td>0.493 (+/- 0.003)</td>\n",
       "    </tr>\n",
       "    <tr>\n",
       "      <th>test_recall</th>\n",
       "      <td>0.000 (+/- 0.000)</td>\n",
       "      <td>0.254 (+/- 0.013)</td>\n",
       "      <td>0.643 (+/- 0.017)</td>\n",
       "    </tr>\n",
       "    <tr>\n",
       "      <th>train_recall</th>\n",
       "      <td>0.000 (+/- 0.000)</td>\n",
       "      <td>0.255 (+/- 0.007)</td>\n",
       "      <td>0.643 (+/- 0.003)</td>\n",
       "    </tr>\n",
       "    <tr>\n",
       "      <th>test_average_precision</th>\n",
       "      <td>0.223 (+/- 0.000)</td>\n",
       "      <td>0.507 (+/- 0.016)</td>\n",
       "      <td>0.504 (+/- 0.016)</td>\n",
       "    </tr>\n",
       "    <tr>\n",
       "      <th>train_average_precision</th>\n",
       "      <td>0.223 (+/- 0.000)</td>\n",
       "      <td>0.509 (+/- 0.004)</td>\n",
       "      <td>0.505 (+/- 0.004)</td>\n",
       "    </tr>\n",
       "  </tbody>\n",
       "</table>\n",
       "</div>"
      ],
      "text/plain": [
       "                                     dummy        LogisticReg  \\\n",
       "fit_time                 0.036 (+/- 0.007)  1.523 (+/- 0.200)   \n",
       "score_time               0.022 (+/- 0.001)  0.025 (+/- 0.002)   \n",
       "test_f1                  0.000 (+/- 0.000)  0.372 (+/- 0.015)   \n",
       "train_f1                 0.000 (+/- 0.000)  0.374 (+/- 0.008)   \n",
       "test_recall              0.000 (+/- 0.000)  0.254 (+/- 0.013)   \n",
       "train_recall             0.000 (+/- 0.000)  0.255 (+/- 0.007)   \n",
       "test_average_precision   0.223 (+/- 0.000)  0.507 (+/- 0.016)   \n",
       "train_average_precision  0.223 (+/- 0.000)  0.509 (+/- 0.004)   \n",
       "\n",
       "                           LogisticReg_opt  \n",
       "fit_time                 0.856 (+/- 0.144)  \n",
       "score_time               0.030 (+/- 0.002)  \n",
       "test_f1                  0.492 (+/- 0.006)  \n",
       "train_f1                 0.493 (+/- 0.003)  \n",
       "test_recall              0.643 (+/- 0.017)  \n",
       "train_recall             0.643 (+/- 0.003)  \n",
       "test_average_precision   0.504 (+/- 0.016)  \n",
       "train_average_precision  0.505 (+/- 0.004)  "
      ]
     },
     "execution_count": 30,
     "metadata": {},
     "output_type": "execute_result"
    }
   ],
   "source": [
    "pd.DataFrame(results)"
   ]
  },
  {
   "cell_type": "code",
   "execution_count": 31,
   "metadata": {},
   "outputs": [
    {
     "data": {
      "text/plain": [
       "array([[11758,  4554],\n",
       "       [ 1672,  3016]])"
      ]
     },
     "execution_count": 31,
     "metadata": {},
     "output_type": "execute_result"
    }
   ],
   "source": [
    "lr = confusion_matrix(y_train, cross_val_predict(pipe_logisticregression_opt, X_train, y_train))\n",
    "lr"
   ]
  },
  {
   "cell_type": "markdown",
   "metadata": {},
   "source": [
    "We can see that with optimized hyperparameters, Logistic Regression is doing much better. However, it is obvious that we are dealing with underfitting (almost no gap between scores). The std is very small ranging in +- 0.01. \n",
    "\n",
    "From confusion matrix, we can see that we have a lot more FPs, then FNs, which is also visible in the average precision and f1 scores. Overall goal is to maximize the f1 score, thus in the later exercise we will look at non-linear models to see if we can beat this score.   "
   ]
  },
  {
   "cell_type": "markdown",
   "metadata": {},
   "source": [
    "<br><br>"
   ]
  },
  {
   "cell_type": "markdown",
   "metadata": {},
   "source": [
    "## 8. Different models <a name=\"8\"></a>\n",
    "<hr>"
   ]
  },
  {
   "cell_type": "code",
   "execution_count": 32,
   "metadata": {},
   "outputs": [],
   "source": [
    "models = {}"
   ]
  },
  {
   "cell_type": "code",
   "execution_count": 33,
   "metadata": {},
   "outputs": [],
   "source": [
    "#Random Forest pipe\n",
    "pipe_rf = make_pipeline(preprocessor, \n",
    "                        RandomForestClassifier(random_state=123))\n",
    "models[\"RandomForest\"] = pipe_rf\n",
    "\n",
    "#XGBoost pipe\n",
    "pipe_xgb = make_pipeline(preprocessor, \n",
    "                         XGBClassifier(random_state=123, \n",
    "                                       eval_metric=\"logloss\", \n",
    "                                       verbosity=0,\n",
    "                                       use_label_encoder=False))\n",
    "models[\"XGBoost\"] = pipe_xgb\n",
    "\n",
    "#LGBM Classifier pipe\n",
    "pipe_lgbm = make_pipeline(preprocessor, \n",
    "                          LGBMClassifier(random_state=123))\n",
    "models[\"LGBM\"] = pipe_lgbm\n",
    "\n",
    "#Catboost pipe\n",
    "pipe_catb = make_pipeline(preprocessor, \n",
    "                          CatBoostClassifier(verbose=0, \n",
    "                                             random_state=123))\n",
    "models[\"Cat_Boost\"] = pipe_catb\n",
    "\n",
    "#summarize mean cv scores in result_non_linear\n",
    "for (name, model) in models.items():\n",
    "    results[name] = mean_std_cross_val_scores(\n",
    "    model, X_train, y_train, return_train_score=True, scoring=scoring_metric\n",
    ")"
   ]
  },
  {
   "cell_type": "code",
   "execution_count": 34,
   "metadata": {},
   "outputs": [
    {
     "data": {
      "text/html": [
       "<div>\n",
       "<style scoped>\n",
       "    .dataframe tbody tr th:only-of-type {\n",
       "        vertical-align: middle;\n",
       "    }\n",
       "\n",
       "    .dataframe tbody tr th {\n",
       "        vertical-align: top;\n",
       "    }\n",
       "\n",
       "    .dataframe thead th {\n",
       "        text-align: right;\n",
       "    }\n",
       "</style>\n",
       "<table border=\"1\" class=\"dataframe\">\n",
       "  <thead>\n",
       "    <tr style=\"text-align: right;\">\n",
       "      <th></th>\n",
       "      <th>dummy</th>\n",
       "      <th>LogisticReg</th>\n",
       "      <th>LogisticReg_opt</th>\n",
       "      <th>RandomForest</th>\n",
       "      <th>XGBoost</th>\n",
       "      <th>LGBM</th>\n",
       "      <th>Cat_Boost</th>\n",
       "    </tr>\n",
       "  </thead>\n",
       "  <tbody>\n",
       "    <tr>\n",
       "      <th>fit_time</th>\n",
       "      <td>0.036 (+/- 0.007)</td>\n",
       "      <td>1.523 (+/- 0.200)</td>\n",
       "      <td>0.856 (+/- 0.144)</td>\n",
       "      <td>4.804 (+/- 0.184)</td>\n",
       "      <td>3.652 (+/- 0.232)</td>\n",
       "      <td>1.419 (+/- 0.276)</td>\n",
       "      <td>9.084 (+/- 1.947)</td>\n",
       "    </tr>\n",
       "    <tr>\n",
       "      <th>score_time</th>\n",
       "      <td>0.022 (+/- 0.001)</td>\n",
       "      <td>0.025 (+/- 0.002)</td>\n",
       "      <td>0.030 (+/- 0.002)</td>\n",
       "      <td>0.231 (+/- 0.034)</td>\n",
       "      <td>0.077 (+/- 0.027)</td>\n",
       "      <td>0.111 (+/- 0.031)</td>\n",
       "      <td>0.142 (+/- 0.024)</td>\n",
       "    </tr>\n",
       "    <tr>\n",
       "      <th>test_f1</th>\n",
       "      <td>0.000 (+/- 0.000)</td>\n",
       "      <td>0.372 (+/- 0.015)</td>\n",
       "      <td>0.492 (+/- 0.006)</td>\n",
       "      <td>0.473 (+/- 0.009)</td>\n",
       "      <td>0.469 (+/- 0.009)</td>\n",
       "      <td>0.481 (+/- 0.015)</td>\n",
       "      <td>0.473 (+/- 0.011)</td>\n",
       "    </tr>\n",
       "    <tr>\n",
       "      <th>train_f1</th>\n",
       "      <td>0.000 (+/- 0.000)</td>\n",
       "      <td>0.374 (+/- 0.008)</td>\n",
       "      <td>0.493 (+/- 0.003)</td>\n",
       "      <td>0.999 (+/- 0.000)</td>\n",
       "      <td>0.744 (+/- 0.003)</td>\n",
       "      <td>0.585 (+/- 0.006)</td>\n",
       "      <td>0.608 (+/- 0.007)</td>\n",
       "    </tr>\n",
       "    <tr>\n",
       "      <th>test_recall</th>\n",
       "      <td>0.000 (+/- 0.000)</td>\n",
       "      <td>0.254 (+/- 0.013)</td>\n",
       "      <td>0.643 (+/- 0.017)</td>\n",
       "      <td>0.374 (+/- 0.009)</td>\n",
       "      <td>0.371 (+/- 0.006)</td>\n",
       "      <td>0.375 (+/- 0.013)</td>\n",
       "      <td>0.371 (+/- 0.010)</td>\n",
       "    </tr>\n",
       "    <tr>\n",
       "      <th>train_recall</th>\n",
       "      <td>0.000 (+/- 0.000)</td>\n",
       "      <td>0.255 (+/- 0.007)</td>\n",
       "      <td>0.643 (+/- 0.003)</td>\n",
       "      <td>0.998 (+/- 0.000)</td>\n",
       "      <td>0.622 (+/- 0.003)</td>\n",
       "      <td>0.459 (+/- 0.007)</td>\n",
       "      <td>0.484 (+/- 0.007)</td>\n",
       "    </tr>\n",
       "    <tr>\n",
       "      <th>test_average_precision</th>\n",
       "      <td>0.223 (+/- 0.000)</td>\n",
       "      <td>0.507 (+/- 0.016)</td>\n",
       "      <td>0.504 (+/- 0.016)</td>\n",
       "      <td>0.540 (+/- 0.015)</td>\n",
       "      <td>0.533 (+/- 0.019)</td>\n",
       "      <td>0.563 (+/- 0.018)</td>\n",
       "      <td>0.560 (+/- 0.019)</td>\n",
       "    </tr>\n",
       "    <tr>\n",
       "      <th>train_average_precision</th>\n",
       "      <td>0.223 (+/- 0.000)</td>\n",
       "      <td>0.509 (+/- 0.004)</td>\n",
       "      <td>0.505 (+/- 0.004)</td>\n",
       "      <td>1.000 (+/- 0.000)</td>\n",
       "      <td>0.900 (+/- 0.004)</td>\n",
       "      <td>0.765 (+/- 0.004)</td>\n",
       "      <td>0.767 (+/- 0.005)</td>\n",
       "    </tr>\n",
       "  </tbody>\n",
       "</table>\n",
       "</div>"
      ],
      "text/plain": [
       "                                     dummy        LogisticReg  \\\n",
       "fit_time                 0.036 (+/- 0.007)  1.523 (+/- 0.200)   \n",
       "score_time               0.022 (+/- 0.001)  0.025 (+/- 0.002)   \n",
       "test_f1                  0.000 (+/- 0.000)  0.372 (+/- 0.015)   \n",
       "train_f1                 0.000 (+/- 0.000)  0.374 (+/- 0.008)   \n",
       "test_recall              0.000 (+/- 0.000)  0.254 (+/- 0.013)   \n",
       "train_recall             0.000 (+/- 0.000)  0.255 (+/- 0.007)   \n",
       "test_average_precision   0.223 (+/- 0.000)  0.507 (+/- 0.016)   \n",
       "train_average_precision  0.223 (+/- 0.000)  0.509 (+/- 0.004)   \n",
       "\n",
       "                           LogisticReg_opt       RandomForest  \\\n",
       "fit_time                 0.856 (+/- 0.144)  4.804 (+/- 0.184)   \n",
       "score_time               0.030 (+/- 0.002)  0.231 (+/- 0.034)   \n",
       "test_f1                  0.492 (+/- 0.006)  0.473 (+/- 0.009)   \n",
       "train_f1                 0.493 (+/- 0.003)  0.999 (+/- 0.000)   \n",
       "test_recall              0.643 (+/- 0.017)  0.374 (+/- 0.009)   \n",
       "train_recall             0.643 (+/- 0.003)  0.998 (+/- 0.000)   \n",
       "test_average_precision   0.504 (+/- 0.016)  0.540 (+/- 0.015)   \n",
       "train_average_precision  0.505 (+/- 0.004)  1.000 (+/- 0.000)   \n",
       "\n",
       "                                   XGBoost               LGBM  \\\n",
       "fit_time                 3.652 (+/- 0.232)  1.419 (+/- 0.276)   \n",
       "score_time               0.077 (+/- 0.027)  0.111 (+/- 0.031)   \n",
       "test_f1                  0.469 (+/- 0.009)  0.481 (+/- 0.015)   \n",
       "train_f1                 0.744 (+/- 0.003)  0.585 (+/- 0.006)   \n",
       "test_recall              0.371 (+/- 0.006)  0.375 (+/- 0.013)   \n",
       "train_recall             0.622 (+/- 0.003)  0.459 (+/- 0.007)   \n",
       "test_average_precision   0.533 (+/- 0.019)  0.563 (+/- 0.018)   \n",
       "train_average_precision  0.900 (+/- 0.004)  0.765 (+/- 0.004)   \n",
       "\n",
       "                                 Cat_Boost  \n",
       "fit_time                 9.084 (+/- 1.947)  \n",
       "score_time               0.142 (+/- 0.024)  \n",
       "test_f1                  0.473 (+/- 0.011)  \n",
       "train_f1                 0.608 (+/- 0.007)  \n",
       "test_recall              0.371 (+/- 0.010)  \n",
       "train_recall             0.484 (+/- 0.007)  \n",
       "test_average_precision   0.560 (+/- 0.019)  \n",
       "train_average_precision  0.767 (+/- 0.005)  "
      ]
     },
     "execution_count": 34,
     "metadata": {},
     "output_type": "execute_result"
    }
   ],
   "source": [
    "pd.DataFrame(results)"
   ]
  },
  {
   "cell_type": "markdown",
   "metadata": {},
   "source": [
    "Default parameters reasoning:\n",
    "\n",
    "All the non-linear models are overfitting, but compared to `RandomForest` and `XGBoost`, the `LGBM` and `CatBoost` are overfitting less the train data, as the gap between train and validation scores is lower. The worst model in regards of overfitting is RandomForest with almost perfect one score in train set, and lower than 0.5 scores on cross validation set (for `f1` score). Logistic Regression is underfitting, the training score is low and the gap between train and validation score is very small. Similarly dummy is underfitting.   \n",
    "\n",
    "`LGBM Classifier` has the lowest fit time and compared to all non linear models, the difference is quite high. `Random Forest` and `CatBoost` have the longest fit time, with latest being the slowest overall. \n",
    "\n",
    "Score time for all classifiers is fast, except random forest. It is still fast, but compared to other models, we can notice difference of around 0.1s.\n",
    "\n",
    "Stability of scores is more or less stable, with standard deviation ranging in around 0.01. \n",
    "\n",
    "`RandomForest` gives better `recall` and `average precision` scores compared to `XGboost` cross validation score, however `f1` score is lower compared to other non-linear models. \n",
    "\n",
    "The best model among non-linear models is `LGBM Classifier`. Despite overfitting, it is giving us the best `f1` + `average precision` score, as well as the lowest fit and score time. The worst model is `Random Forest`, `XGBoost`, as they have the lowest f1 score among non-linear models, and take a long time to fit. \n",
    "\n",
    "As for `Logistic Regression`, it gives us **best** score (except for average precision) in `recall` and `f1` score. Regarding `recall`, `f1` scores and speed, `LGBM` is the only non-linear model which can be comparable to `Logistic Regression`. \n",
    "\n",
    "Thus, we cannot conclude that non-linear models beat linear models."
   ]
  },
  {
   "cell_type": "markdown",
   "metadata": {},
   "source": [
    "<br><br>"
   ]
  },
  {
   "cell_type": "markdown",
   "metadata": {},
   "source": [
    "## 9. Feature selection <a name=\"9\"></a>\n",
    "<hr>"
   ]
  },
  {
   "cell_type": "code",
   "execution_count": 35,
   "metadata": {},
   "outputs": [],
   "source": [
    "result_feature_select = {}"
   ]
  },
  {
   "cell_type": "code",
   "execution_count": 36,
   "metadata": {},
   "outputs": [],
   "source": [
    "rfecv = RFECV(Ridge())\n",
    "\n",
    "pipe_rf_rfecv = make_pipeline(\n",
    "    preprocessor, rfecv, LGBMClassifier(random_state=123)\n",
    ")\n",
    "\n",
    "result_feature_select[\"rf+rfecv\"] = mean_std_cross_val_scores(\n",
    "    pipe_rf_rfecv, X_train, y_train, return_train_score=True, scoring=scoring_metric\n",
    ")"
   ]
  },
  {
   "cell_type": "code",
   "execution_count": 37,
   "metadata": {},
   "outputs": [
    {
     "data": {
      "text/html": [
       "<div>\n",
       "<style scoped>\n",
       "    .dataframe tbody tr th:only-of-type {\n",
       "        vertical-align: middle;\n",
       "    }\n",
       "\n",
       "    .dataframe tbody tr th {\n",
       "        vertical-align: top;\n",
       "    }\n",
       "\n",
       "    .dataframe thead th {\n",
       "        text-align: right;\n",
       "    }\n",
       "</style>\n",
       "<table border=\"1\" class=\"dataframe\">\n",
       "  <thead>\n",
       "    <tr style=\"text-align: right;\">\n",
       "      <th></th>\n",
       "      <th>rf+rfecv</th>\n",
       "    </tr>\n",
       "  </thead>\n",
       "  <tbody>\n",
       "    <tr>\n",
       "      <th>fit_time</th>\n",
       "      <td>1.475 (+/- 0.102)</td>\n",
       "    </tr>\n",
       "    <tr>\n",
       "      <th>score_time</th>\n",
       "      <td>0.072 (+/- 0.005)</td>\n",
       "    </tr>\n",
       "    <tr>\n",
       "      <th>test_f1</th>\n",
       "      <td>0.478 (+/- 0.012)</td>\n",
       "    </tr>\n",
       "    <tr>\n",
       "      <th>train_f1</th>\n",
       "      <td>0.565 (+/- 0.024)</td>\n",
       "    </tr>\n",
       "    <tr>\n",
       "      <th>test_recall</th>\n",
       "      <td>0.372 (+/- 0.010)</td>\n",
       "    </tr>\n",
       "    <tr>\n",
       "      <th>train_recall</th>\n",
       "      <td>0.441 (+/- 0.024)</td>\n",
       "    </tr>\n",
       "    <tr>\n",
       "      <th>test_average_precision</th>\n",
       "      <td>0.554 (+/- 0.016)</td>\n",
       "    </tr>\n",
       "    <tr>\n",
       "      <th>train_average_precision</th>\n",
       "      <td>0.731 (+/- 0.027)</td>\n",
       "    </tr>\n",
       "  </tbody>\n",
       "</table>\n",
       "</div>"
      ],
      "text/plain": [
       "                                  rf+rfecv\n",
       "fit_time                 1.475 (+/- 0.102)\n",
       "score_time               0.072 (+/- 0.005)\n",
       "test_f1                  0.478 (+/- 0.012)\n",
       "train_f1                 0.565 (+/- 0.024)\n",
       "test_recall              0.372 (+/- 0.010)\n",
       "train_recall             0.441 (+/- 0.024)\n",
       "test_average_precision   0.554 (+/- 0.016)\n",
       "train_average_precision  0.731 (+/- 0.027)"
      ]
     },
     "execution_count": 37,
     "metadata": {},
     "output_type": "execute_result"
    }
   ],
   "source": [
    "pd.DataFrame(result_feature_select)"
   ]
  },
  {
   "cell_type": "markdown",
   "metadata": {},
   "source": [
    "After including feature selection, the cv scores did not improve compared to our best non linear model `LGBM`: all three cv scores f1, average precision and recall decreased. Even though, the overfitting is less (the gap between train and cv score), we do not see improvement by including feature selection in overall performance."
   ]
  },
  {
   "cell_type": "markdown",
   "metadata": {},
   "source": [
    "<br><br>"
   ]
  },
  {
   "cell_type": "markdown",
   "metadata": {
    "tags": []
   },
   "source": [
    "## 10. Hyperparameter optimization <a name=\"10\"></a>\n",
    "<hr>"
   ]
  },
  {
   "cell_type": "markdown",
   "metadata": {},
   "source": [
    "We will start from `RandomForest Classifier` and optimize three of its hyperparameters: **n_estimators** which determines the number of trees in the forest, **max_depth** determines the number of levels in the tree, and **class_weight** which is used for tackling class imbalance (controls weights associated with the classes). "
   ]
  },
  {
   "cell_type": "code",
   "execution_count": 38,
   "metadata": {},
   "outputs": [],
   "source": [
    "param_grid_rf = {\n",
    "     \"randomforestclassifier__n_estimators\": np.linspace(start=200, stop=500, num=5, dtype=int),\n",
    "     \"randomforestclassifier__max_depth\": np.linspace(start=10, stop=110, num=5, dtype=int),\n",
    "     \"randomforestclassifier__class_weight\": ['balanced', None]\n",
    "}"
   ]
  },
  {
   "cell_type": "code",
   "execution_count": 39,
   "metadata": {},
   "outputs": [
    {
     "name": "stderr",
     "output_type": "stream",
     "text": [
      "/Users/jzhu/opt/miniconda3/envs/573/lib/python3.9/site-packages/joblib/externals/loky/process_executor.py:702: UserWarning: A worker stopped while some jobs were given to the executor. This can be caused by a too short worker timeout or by a memory leak.\n",
      "  warnings.warn(\n"
     ]
    },
    {
     "data": {
      "text/plain": [
       "RandomizedSearchCV(cv=5,\n",
       "                   estimator=Pipeline(steps=[('columntransformer',\n",
       "                                              ColumnTransformer(transformers=[('drop',\n",
       "                                                                               'drop',\n",
       "                                                                               ['ID']),\n",
       "                                                                              ('standardscaler',\n",
       "                                                                               StandardScaler(),\n",
       "                                                                               ['PAY_AMT3',\n",
       "                                                                                'PAY_AMT2',\n",
       "                                                                                'PAY_AMT5',\n",
       "                                                                                'BILL_AMT6',\n",
       "                                                                                'PAY_AMT4',\n",
       "                                                                                'BILL_AMT2',\n",
       "                                                                                'PAY_AMT6',\n",
       "                                                                                'BILL_AMT5',\n",
       "                                                                                'avg_pay_amt',\n",
       "                                                                                'AGE',\n",
       "                                                                                'BILL_AMT3',\n",
       "                                                                                'BILL_AMT1',\n",
       "                                                                                'PAY_AMT1',\n",
       "                                                                                'avg_bill_amt',\n",
       "                                                                                'BILL_AMT4',\n",
       "                                                                                'LIMIT_BAL']),\n",
       "                                                                              (...\n",
       "                                             ('randomforestclassifier',\n",
       "                                              RandomForestClassifier(random_state=123))]),\n",
       "                   n_iter=6, n_jobs=-1,\n",
       "                   param_distributions={'randomforestclassifier__class_weight': ['balanced',\n",
       "                                                                                 None],\n",
       "                                        'randomforestclassifier__max_depth': array([ 10,  35,  60,  85, 110]),\n",
       "                                        'randomforestclassifier__n_estimators': array([200, 275, 350, 425, 500])},\n",
       "                   random_state=123, return_train_score=True, scoring='f1')"
      ]
     },
     "execution_count": 39,
     "metadata": {},
     "output_type": "execute_result"
    }
   ],
   "source": [
    "random_search_rf = RandomizedSearchCV(\n",
    "    pipe_rf,\n",
    "    param_grid_rf,\n",
    "    n_jobs=-1,\n",
    "    n_iter=6,\n",
    "    scoring=\"f1\",\n",
    "    cv=5,\n",
    "    random_state=123,\n",
    "    return_train_score=True,\n",
    ")\n",
    "\n",
    "random_search_rf.fit(X_train, y_train)"
   ]
  },
  {
   "cell_type": "code",
   "execution_count": 40,
   "metadata": {},
   "outputs": [
    {
     "name": "stdout",
     "output_type": "stream",
     "text": [
      "Best hyperparameter values for Random Forest:  {'randomforestclassifier__n_estimators': 200, 'randomforestclassifier__max_depth': 10, 'randomforestclassifier__class_weight': 'balanced'}\n",
      "Best score: 0.545\n"
     ]
    }
   ],
   "source": [
    "print(\"Best hyperparameter values for Random Forest: \", random_search_rf.best_params_)\n",
    "print(\"Best score: %0.3f\" % (random_search_rf.best_score_))"
   ]
  },
  {
   "cell_type": "markdown",
   "metadata": {},
   "source": [
    "The next we will optimize hyperparameter for `XGBoost`. We will optimize the **max_depth** hyperparameter, which determines the maximum depth of a tree (more depth, more complex model). "
   ]
  },
  {
   "cell_type": "code",
   "execution_count": 41,
   "metadata": {},
   "outputs": [],
   "source": [
    "param_grid_xgb = {\n",
    "     \"xgbclassifier__max_depth\": np.arange(5, 25, 3),\n",
    "}"
   ]
  },
  {
   "cell_type": "code",
   "execution_count": 42,
   "metadata": {},
   "outputs": [
    {
     "data": {
      "text/plain": [
       "RandomizedSearchCV(cv=5,\n",
       "                   estimator=Pipeline(steps=[('columntransformer',\n",
       "                                              ColumnTransformer(transformers=[('drop',\n",
       "                                                                               'drop',\n",
       "                                                                               ['ID']),\n",
       "                                                                              ('standardscaler',\n",
       "                                                                               StandardScaler(),\n",
       "                                                                               ['PAY_AMT3',\n",
       "                                                                                'PAY_AMT2',\n",
       "                                                                                'PAY_AMT5',\n",
       "                                                                                'BILL_AMT6',\n",
       "                                                                                'PAY_AMT4',\n",
       "                                                                                'BILL_AMT2',\n",
       "                                                                                'PAY_AMT6',\n",
       "                                                                                'BILL_AMT5',\n",
       "                                                                                'avg_pay_amt',\n",
       "                                                                                'AGE',\n",
       "                                                                                'BILL_AMT3',\n",
       "                                                                                'BILL_AMT1',\n",
       "                                                                                'PAY_AMT1',\n",
       "                                                                                'avg_bill_amt',\n",
       "                                                                                'BILL_AMT4',\n",
       "                                                                                'LIMIT_BAL']),\n",
       "                                                                              (...\n",
       "                                                            n_jobs=None,\n",
       "                                                            num_parallel_tree=None,\n",
       "                                                            random_state=123,\n",
       "                                                            reg_alpha=None,\n",
       "                                                            reg_lambda=None,\n",
       "                                                            scale_pos_weight=None,\n",
       "                                                            subsample=None,\n",
       "                                                            tree_method=None,\n",
       "                                                            use_label_encoder=False,\n",
       "                                                            validate_parameters=None,\n",
       "                                                            verbosity=0))]),\n",
       "                   n_iter=6, n_jobs=-1,\n",
       "                   param_distributions={'xgbclassifier__max_depth': array([ 5,  8, 11, 14, 17, 20, 23])},\n",
       "                   random_state=123, return_train_score=True, scoring='f1')"
      ]
     },
     "execution_count": 42,
     "metadata": {},
     "output_type": "execute_result"
    }
   ],
   "source": [
    "random_search_xgboost = RandomizedSearchCV(\n",
    "    pipe_xgb,\n",
    "    param_grid_xgb,\n",
    "    n_jobs=-1,\n",
    "    n_iter=6,\n",
    "    scoring=\"f1\",\n",
    "    cv=5,\n",
    "    random_state=123,\n",
    "    return_train_score=True,\n",
    ")\n",
    "\n",
    "random_search_xgboost.fit(X_train, y_train)"
   ]
  },
  {
   "cell_type": "code",
   "execution_count": 43,
   "metadata": {},
   "outputs": [
    {
     "name": "stdout",
     "output_type": "stream",
     "text": [
      "Best hyperparameter values for XGBClassifier:  {'xgbclassifier__max_depth': 20}\n",
      "Best score: 0.466\n"
     ]
    }
   ],
   "source": [
    "print(\"Best hyperparameter values for XGBClassifier: \", random_search_xgboost.best_params_)\n",
    "print(\"Best score: %0.3f\" % (random_search_xgboost.best_score_))"
   ]
  },
  {
   "cell_type": "markdown",
   "metadata": {},
   "source": [
    "Next we will optimize hyperparameters for `LGBM Classifier`: **max_depth** which determines the depth of the tree, **num_leaves** which determines the number of leaves for base learners, and the **class_weight** hyperparameter for tackling class imbalance (controls weights associated with the classes).  "
   ]
  },
  {
   "cell_type": "code",
   "execution_count": 44,
   "metadata": {},
   "outputs": [],
   "source": [
    "param_grid_lgbm = {\n",
    "     \"lgbmclassifier__max_depth\": np.arange(5, 25, 3),\n",
    "     \"lgbmclassifier__num_leaves\": np.arange(20, 200, 20),\n",
    "     \"lgbmclassifier__class_weight\": ['balanced', None]\n",
    "}"
   ]
  },
  {
   "cell_type": "code",
   "execution_count": 45,
   "metadata": {},
   "outputs": [
    {
     "data": {
      "text/plain": [
       "RandomizedSearchCV(cv=5,\n",
       "                   estimator=Pipeline(steps=[('columntransformer',\n",
       "                                              ColumnTransformer(transformers=[('drop',\n",
       "                                                                               'drop',\n",
       "                                                                               ['ID']),\n",
       "                                                                              ('standardscaler',\n",
       "                                                                               StandardScaler(),\n",
       "                                                                               ['PAY_AMT3',\n",
       "                                                                                'PAY_AMT2',\n",
       "                                                                                'PAY_AMT5',\n",
       "                                                                                'BILL_AMT6',\n",
       "                                                                                'PAY_AMT4',\n",
       "                                                                                'BILL_AMT2',\n",
       "                                                                                'PAY_AMT6',\n",
       "                                                                                'BILL_AMT5',\n",
       "                                                                                'avg_pay_amt',\n",
       "                                                                                'AGE',\n",
       "                                                                                'BILL_AMT3',\n",
       "                                                                                'BILL_AMT1',\n",
       "                                                                                'PAY_AMT1',\n",
       "                                                                                'avg_bill_amt',\n",
       "                                                                                'BILL_AMT4',\n",
       "                                                                                'LIMIT_BAL']),\n",
       "                                                                              (...\n",
       "                                                                                'MARRIAGE',\n",
       "                                                                                'EDUCATION'])])),\n",
       "                                             ('lgbmclassifier',\n",
       "                                              LGBMClassifier(random_state=123))]),\n",
       "                   n_iter=6, n_jobs=-1,\n",
       "                   param_distributions={'lgbmclassifier__class_weight': ['balanced',\n",
       "                                                                         None],\n",
       "                                        'lgbmclassifier__max_depth': array([ 5,  8, 11, 14, 17, 20, 23]),\n",
       "                                        'lgbmclassifier__num_leaves': array([ 20,  40,  60,  80, 100, 120, 140, 160, 180])},\n",
       "                   random_state=123, return_train_score=True, scoring='f1')"
      ]
     },
     "execution_count": 45,
     "metadata": {},
     "output_type": "execute_result"
    }
   ],
   "source": [
    "random_search_lgbm = RandomizedSearchCV(\n",
    "    pipe_lgbm,\n",
    "    param_grid_lgbm,\n",
    "    n_jobs=-1,\n",
    "    n_iter=6,\n",
    "    scoring=\"f1\",\n",
    "    cv=5,\n",
    "    random_state=123,\n",
    "    return_train_score=True,\n",
    ")\n",
    "\n",
    "random_search_lgbm.fit(X_train, y_train)"
   ]
  },
  {
   "cell_type": "code",
   "execution_count": 46,
   "metadata": {},
   "outputs": [
    {
     "name": "stdout",
     "output_type": "stream",
     "text": [
      "Best hyperparameter values for LGBMlassifier:  {'lgbmclassifier__num_leaves': 100, 'lgbmclassifier__max_depth': 5, 'lgbmclassifier__class_weight': 'balanced'}\n",
      "Best score: 0.546\n"
     ]
    }
   ],
   "source": [
    "print(\"Best hyperparameter values for LGBMlassifier: \", random_search_lgbm.best_params_)\n",
    "print(\"Best score: %0.3f\" % (random_search_lgbm.best_score_))"
   ]
  },
  {
   "cell_type": "markdown",
   "metadata": {},
   "source": [
    "Lastly, we will perform hyperparamaters optimization for `CatBoost Classifier`: **max_depth** which determines the the depth of the tree, **learning_rate** which controls the gradient step size (smaller size, more iterations) and can help to minimize the error associated with the Loss function, and **auto_class_weights** which determines the weight given to each class.  "
   ]
  },
  {
   "cell_type": "code",
   "execution_count": 47,
   "metadata": {},
   "outputs": [],
   "source": [
    "param_grid_cat = {\n",
    "     \"catboostclassifier__max_depth\": np.arange(5, 15, 2),\n",
    "     \"catboostclassifier__learning_rate\": np.linspace(0.1,0.2,5),\n",
    "     \"catboostclassifier__auto_class_weights\": [\"None\", \"Balanced\"]\n",
    "}"
   ]
  },
  {
   "cell_type": "code",
   "execution_count": 48,
   "metadata": {},
   "outputs": [
    {
     "data": {
      "text/plain": [
       "RandomizedSearchCV(cv=5,\n",
       "                   estimator=Pipeline(steps=[('columntransformer',\n",
       "                                              ColumnTransformer(transformers=[('drop',\n",
       "                                                                               'drop',\n",
       "                                                                               ['ID']),\n",
       "                                                                              ('standardscaler',\n",
       "                                                                               StandardScaler(),\n",
       "                                                                               ['PAY_AMT3',\n",
       "                                                                                'PAY_AMT2',\n",
       "                                                                                'PAY_AMT5',\n",
       "                                                                                'BILL_AMT6',\n",
       "                                                                                'PAY_AMT4',\n",
       "                                                                                'BILL_AMT2',\n",
       "                                                                                'PAY_AMT6',\n",
       "                                                                                'BILL_AMT5',\n",
       "                                                                                'avg_pay_amt',\n",
       "                                                                                'AGE',\n",
       "                                                                                'BILL_AMT3',\n",
       "                                                                                'BILL_AMT1',\n",
       "                                                                                'PAY_AMT1',\n",
       "                                                                                'avg_bill_amt',\n",
       "                                                                                'BILL_AMT4',\n",
       "                                                                                'LIMIT_BAL']),\n",
       "                                                                              (...\n",
       "                                             ('catboostclassifier',\n",
       "                                              <catboost.core.CatBoostClassifier object at 0x174aec7c0>)]),\n",
       "                   n_iter=6, n_jobs=-1,\n",
       "                   param_distributions={'catboostclassifier__auto_class_weights': ['None',\n",
       "                                                                                   'Balanced'],\n",
       "                                        'catboostclassifier__learning_rate': array([0.1  , 0.125, 0.15 , 0.175, 0.2  ]),\n",
       "                                        'catboostclassifier__max_depth': array([ 5,  7,  9, 11, 13])},\n",
       "                   random_state=123, return_train_score=True, scoring='f1')"
      ]
     },
     "execution_count": 48,
     "metadata": {},
     "output_type": "execute_result"
    }
   ],
   "source": [
    "random_search_cat = RandomizedSearchCV(\n",
    "    pipe_catb,\n",
    "    param_grid_cat,\n",
    "    n_jobs=-1,\n",
    "    n_iter=6,\n",
    "    scoring=\"f1\",\n",
    "    cv=5,\n",
    "    random_state=123,\n",
    "    return_train_score=True,\n",
    ")\n",
    "\n",
    "random_search_cat.fit(X_train, y_train)"
   ]
  },
  {
   "cell_type": "code",
   "execution_count": 49,
   "metadata": {},
   "outputs": [
    {
     "name": "stdout",
     "output_type": "stream",
     "text": [
      "Best hyperparameter values for CatBoost:  {'catboostclassifier__max_depth': 5, 'catboostclassifier__learning_rate': 0.125, 'catboostclassifier__auto_class_weights': 'Balanced'}\n",
      "Best score: 0.522\n"
     ]
    }
   ],
   "source": [
    "print(\"Best hyperparameter values for CatBoost: \", random_search_cat.best_params_)\n",
    "print(\"Best score: %0.3f\" % (random_search_cat.best_score_))"
   ]
  },
  {
   "cell_type": "markdown",
   "metadata": {},
   "source": [
    "We are going to group classifiers with optimized arguments in the dictionary and get mean cross validation scores for each to summarize them in the `results` dictionary. They will appear with the 'unoptimized' versions, thus it will be easier to compare. "
   ]
  },
  {
   "cell_type": "code",
   "execution_count": 50,
   "metadata": {},
   "outputs": [],
   "source": [
    "classifiers = {\n",
    "    \"random_forest_opt\": make_pipeline(preprocessor, \n",
    "                                   RandomForestClassifier(random_state=123,\n",
    "                                                          n_estimators=200, \n",
    "                                                          max_depth=10, \n",
    "                                                          class_weight='balanced')),\n",
    "    \"XGBoost_opt\": make_pipeline(preprocessor, \n",
    "                                 XGBClassifier(random_state=123, \n",
    "                                               eval_metric=\"logloss\", \n",
    "                                               verbosity=0,\n",
    "                                               max_depth = 20,\n",
    "                                               use_label_encoder =False)),\n",
    "    \"LightGBM_opt\": make_pipeline(preprocessor, \n",
    "                                  LGBMClassifier(random_state=123,\n",
    "                                                 num_leaves=100,\n",
    "                                                 max_depth= 5,\n",
    "                                                 class_weight = 'balanced')),\n",
    "    \"CatBoost_opt\": make_pipeline(preprocessor, \n",
    "                                  CatBoostClassifier(verbose=0,\n",
    "                                                     random_state=123,\n",
    "                                                     max_depth = 5, \n",
    "                                                     learning_rate = 0.125,\n",
    "                                                     auto_class_weights = 'Balanced')),\n",
    "}"
   ]
  },
  {
   "cell_type": "code",
   "execution_count": 51,
   "metadata": {},
   "outputs": [],
   "source": [
    "for (name, model) in classifiers.items():\n",
    "    results[name] = mean_std_cross_val_scores(\n",
    "    model, X_train, y_train, return_train_score=True, scoring=scoring_metric\n",
    ")"
   ]
  },
  {
   "cell_type": "code",
   "execution_count": 52,
   "metadata": {},
   "outputs": [
    {
     "data": {
      "text/html": [
       "<div>\n",
       "<style scoped>\n",
       "    .dataframe tbody tr th:only-of-type {\n",
       "        vertical-align: middle;\n",
       "    }\n",
       "\n",
       "    .dataframe tbody tr th {\n",
       "        vertical-align: top;\n",
       "    }\n",
       "\n",
       "    .dataframe thead th {\n",
       "        text-align: right;\n",
       "    }\n",
       "</style>\n",
       "<table border=\"1\" class=\"dataframe\">\n",
       "  <thead>\n",
       "    <tr style=\"text-align: right;\">\n",
       "      <th></th>\n",
       "      <th>dummy</th>\n",
       "      <th>LogisticReg</th>\n",
       "      <th>LogisticReg_opt</th>\n",
       "      <th>RandomForest</th>\n",
       "      <th>XGBoost</th>\n",
       "      <th>LGBM</th>\n",
       "      <th>Cat_Boost</th>\n",
       "      <th>random_forest_opt</th>\n",
       "      <th>XGBoost_opt</th>\n",
       "      <th>LightGBM_opt</th>\n",
       "      <th>CatBoost_opt</th>\n",
       "    </tr>\n",
       "  </thead>\n",
       "  <tbody>\n",
       "    <tr>\n",
       "      <th>fit_time</th>\n",
       "      <td>0.036 (+/- 0.007)</td>\n",
       "      <td>1.523 (+/- 0.200)</td>\n",
       "      <td>0.856 (+/- 0.144)</td>\n",
       "      <td>4.804 (+/- 0.184)</td>\n",
       "      <td>3.652 (+/- 0.232)</td>\n",
       "      <td>1.419 (+/- 0.276)</td>\n",
       "      <td>9.084 (+/- 1.947)</td>\n",
       "      <td>6.074 (+/- 0.767)</td>\n",
       "      <td>9.876 (+/- 0.544)</td>\n",
       "      <td>0.634 (+/- 0.205)</td>\n",
       "      <td>6.082 (+/- 0.549)</td>\n",
       "    </tr>\n",
       "    <tr>\n",
       "      <th>score_time</th>\n",
       "      <td>0.022 (+/- 0.001)</td>\n",
       "      <td>0.025 (+/- 0.002)</td>\n",
       "      <td>0.030 (+/- 0.002)</td>\n",
       "      <td>0.231 (+/- 0.034)</td>\n",
       "      <td>0.077 (+/- 0.027)</td>\n",
       "      <td>0.111 (+/- 0.031)</td>\n",
       "      <td>0.142 (+/- 0.024)</td>\n",
       "      <td>0.243 (+/- 0.036)</td>\n",
       "      <td>0.080 (+/- 0.010)</td>\n",
       "      <td>0.072 (+/- 0.010)</td>\n",
       "      <td>0.130 (+/- 0.009)</td>\n",
       "    </tr>\n",
       "    <tr>\n",
       "      <th>test_f1</th>\n",
       "      <td>0.000 (+/- 0.000)</td>\n",
       "      <td>0.372 (+/- 0.015)</td>\n",
       "      <td>0.492 (+/- 0.006)</td>\n",
       "      <td>0.473 (+/- 0.009)</td>\n",
       "      <td>0.469 (+/- 0.009)</td>\n",
       "      <td>0.481 (+/- 0.015)</td>\n",
       "      <td>0.473 (+/- 0.011)</td>\n",
       "      <td>0.545 (+/- 0.018)</td>\n",
       "      <td>0.466 (+/- 0.013)</td>\n",
       "      <td>0.546 (+/- 0.014)</td>\n",
       "      <td>0.522 (+/- 0.010)</td>\n",
       "    </tr>\n",
       "    <tr>\n",
       "      <th>train_f1</th>\n",
       "      <td>0.000 (+/- 0.000)</td>\n",
       "      <td>0.374 (+/- 0.008)</td>\n",
       "      <td>0.493 (+/- 0.003)</td>\n",
       "      <td>0.999 (+/- 0.000)</td>\n",
       "      <td>0.744 (+/- 0.003)</td>\n",
       "      <td>0.585 (+/- 0.006)</td>\n",
       "      <td>0.608 (+/- 0.007)</td>\n",
       "      <td>0.653 (+/- 0.001)</td>\n",
       "      <td>0.998 (+/- 0.000)</td>\n",
       "      <td>0.617 (+/- 0.002)</td>\n",
       "      <td>0.817 (+/- 0.004)</td>\n",
       "    </tr>\n",
       "    <tr>\n",
       "      <th>test_recall</th>\n",
       "      <td>0.000 (+/- 0.000)</td>\n",
       "      <td>0.254 (+/- 0.013)</td>\n",
       "      <td>0.643 (+/- 0.017)</td>\n",
       "      <td>0.374 (+/- 0.009)</td>\n",
       "      <td>0.371 (+/- 0.006)</td>\n",
       "      <td>0.375 (+/- 0.013)</td>\n",
       "      <td>0.371 (+/- 0.010)</td>\n",
       "      <td>0.553 (+/- 0.012)</td>\n",
       "      <td>0.378 (+/- 0.011)</td>\n",
       "      <td>0.615 (+/- 0.015)</td>\n",
       "      <td>0.564 (+/- 0.008)</td>\n",
       "    </tr>\n",
       "    <tr>\n",
       "      <th>train_recall</th>\n",
       "      <td>0.000 (+/- 0.000)</td>\n",
       "      <td>0.255 (+/- 0.007)</td>\n",
       "      <td>0.643 (+/- 0.003)</td>\n",
       "      <td>0.998 (+/- 0.000)</td>\n",
       "      <td>0.622 (+/- 0.003)</td>\n",
       "      <td>0.459 (+/- 0.007)</td>\n",
       "      <td>0.484 (+/- 0.007)</td>\n",
       "      <td>0.669 (+/- 0.005)</td>\n",
       "      <td>0.997 (+/- 0.001)</td>\n",
       "      <td>0.695 (+/- 0.005)</td>\n",
       "      <td>0.931 (+/- 0.005)</td>\n",
       "    </tr>\n",
       "    <tr>\n",
       "      <th>test_average_precision</th>\n",
       "      <td>0.223 (+/- 0.000)</td>\n",
       "      <td>0.507 (+/- 0.016)</td>\n",
       "      <td>0.504 (+/- 0.016)</td>\n",
       "      <td>0.540 (+/- 0.015)</td>\n",
       "      <td>0.533 (+/- 0.019)</td>\n",
       "      <td>0.563 (+/- 0.018)</td>\n",
       "      <td>0.560 (+/- 0.019)</td>\n",
       "      <td>0.557 (+/- 0.021)</td>\n",
       "      <td>0.527 (+/- 0.015)</td>\n",
       "      <td>0.565 (+/- 0.021)</td>\n",
       "      <td>0.533 (+/- 0.017)</td>\n",
       "    </tr>\n",
       "    <tr>\n",
       "      <th>train_average_precision</th>\n",
       "      <td>0.223 (+/- 0.000)</td>\n",
       "      <td>0.509 (+/- 0.004)</td>\n",
       "      <td>0.505 (+/- 0.004)</td>\n",
       "      <td>1.000 (+/- 0.000)</td>\n",
       "      <td>0.900 (+/- 0.004)</td>\n",
       "      <td>0.765 (+/- 0.004)</td>\n",
       "      <td>0.767 (+/- 0.005)</td>\n",
       "      <td>0.740 (+/- 0.004)</td>\n",
       "      <td>1.000 (+/- 0.000)</td>\n",
       "      <td>0.682 (+/- 0.004)</td>\n",
       "      <td>0.893 (+/- 0.002)</td>\n",
       "    </tr>\n",
       "  </tbody>\n",
       "</table>\n",
       "</div>"
      ],
      "text/plain": [
       "                                     dummy        LogisticReg  \\\n",
       "fit_time                 0.036 (+/- 0.007)  1.523 (+/- 0.200)   \n",
       "score_time               0.022 (+/- 0.001)  0.025 (+/- 0.002)   \n",
       "test_f1                  0.000 (+/- 0.000)  0.372 (+/- 0.015)   \n",
       "train_f1                 0.000 (+/- 0.000)  0.374 (+/- 0.008)   \n",
       "test_recall              0.000 (+/- 0.000)  0.254 (+/- 0.013)   \n",
       "train_recall             0.000 (+/- 0.000)  0.255 (+/- 0.007)   \n",
       "test_average_precision   0.223 (+/- 0.000)  0.507 (+/- 0.016)   \n",
       "train_average_precision  0.223 (+/- 0.000)  0.509 (+/- 0.004)   \n",
       "\n",
       "                           LogisticReg_opt       RandomForest  \\\n",
       "fit_time                 0.856 (+/- 0.144)  4.804 (+/- 0.184)   \n",
       "score_time               0.030 (+/- 0.002)  0.231 (+/- 0.034)   \n",
       "test_f1                  0.492 (+/- 0.006)  0.473 (+/- 0.009)   \n",
       "train_f1                 0.493 (+/- 0.003)  0.999 (+/- 0.000)   \n",
       "test_recall              0.643 (+/- 0.017)  0.374 (+/- 0.009)   \n",
       "train_recall             0.643 (+/- 0.003)  0.998 (+/- 0.000)   \n",
       "test_average_precision   0.504 (+/- 0.016)  0.540 (+/- 0.015)   \n",
       "train_average_precision  0.505 (+/- 0.004)  1.000 (+/- 0.000)   \n",
       "\n",
       "                                   XGBoost               LGBM  \\\n",
       "fit_time                 3.652 (+/- 0.232)  1.419 (+/- 0.276)   \n",
       "score_time               0.077 (+/- 0.027)  0.111 (+/- 0.031)   \n",
       "test_f1                  0.469 (+/- 0.009)  0.481 (+/- 0.015)   \n",
       "train_f1                 0.744 (+/- 0.003)  0.585 (+/- 0.006)   \n",
       "test_recall              0.371 (+/- 0.006)  0.375 (+/- 0.013)   \n",
       "train_recall             0.622 (+/- 0.003)  0.459 (+/- 0.007)   \n",
       "test_average_precision   0.533 (+/- 0.019)  0.563 (+/- 0.018)   \n",
       "train_average_precision  0.900 (+/- 0.004)  0.765 (+/- 0.004)   \n",
       "\n",
       "                                 Cat_Boost  random_forest_opt  \\\n",
       "fit_time                 9.084 (+/- 1.947)  6.074 (+/- 0.767)   \n",
       "score_time               0.142 (+/- 0.024)  0.243 (+/- 0.036)   \n",
       "test_f1                  0.473 (+/- 0.011)  0.545 (+/- 0.018)   \n",
       "train_f1                 0.608 (+/- 0.007)  0.653 (+/- 0.001)   \n",
       "test_recall              0.371 (+/- 0.010)  0.553 (+/- 0.012)   \n",
       "train_recall             0.484 (+/- 0.007)  0.669 (+/- 0.005)   \n",
       "test_average_precision   0.560 (+/- 0.019)  0.557 (+/- 0.021)   \n",
       "train_average_precision  0.767 (+/- 0.005)  0.740 (+/- 0.004)   \n",
       "\n",
       "                               XGBoost_opt       LightGBM_opt  \\\n",
       "fit_time                 9.876 (+/- 0.544)  0.634 (+/- 0.205)   \n",
       "score_time               0.080 (+/- 0.010)  0.072 (+/- 0.010)   \n",
       "test_f1                  0.466 (+/- 0.013)  0.546 (+/- 0.014)   \n",
       "train_f1                 0.998 (+/- 0.000)  0.617 (+/- 0.002)   \n",
       "test_recall              0.378 (+/- 0.011)  0.615 (+/- 0.015)   \n",
       "train_recall             0.997 (+/- 0.001)  0.695 (+/- 0.005)   \n",
       "test_average_precision   0.527 (+/- 0.015)  0.565 (+/- 0.021)   \n",
       "train_average_precision  1.000 (+/- 0.000)  0.682 (+/- 0.004)   \n",
       "\n",
       "                              CatBoost_opt  \n",
       "fit_time                 6.082 (+/- 0.549)  \n",
       "score_time               0.130 (+/- 0.009)  \n",
       "test_f1                  0.522 (+/- 0.010)  \n",
       "train_f1                 0.817 (+/- 0.004)  \n",
       "test_recall              0.564 (+/- 0.008)  \n",
       "train_recall             0.931 (+/- 0.005)  \n",
       "test_average_precision   0.533 (+/- 0.017)  \n",
       "train_average_precision  0.893 (+/- 0.002)  "
      ]
     },
     "execution_count": 52,
     "metadata": {},
     "output_type": "execute_result"
    }
   ],
   "source": [
    "pd.DataFrame(results)"
   ]
  },
  {
   "cell_type": "markdown",
   "metadata": {},
   "source": [
    "We can notice that after optimization, we are getting better cross validation scores in all non-linear models. \n",
    "\n",
    "The overfitting seems to be better in comparison with \"unoptimized\" models, however all models seem to still overfit. RandomForest is giving us much better results, the difference between cv and train score gap is much less, and all other scores are up. In fact, the scores became competitive with the other non-linear models. After optimization, CatBoost seems to overfit more. \n",
    "\n",
    "Std is low for all models. \n",
    "\n",
    "The best model after hyperparameter optimization is `LGBM Classifier`, which gives us the highest cv `f1 score`, and is the fastest among all models. Even though logistic regression has higher recall score, then LGBM, in overall performance we are more prioritizing f1 score. Also the difference between score and fit time between LGBM and logistic regression is not very large, and we can say that both models are quick. Thus we are choosing LGBM as our final model with hyperparameters as follow: 'lgbmclassifier__num_leaves': 100, 'lgbmclassifier__max_depth': 5, 'lgbmclassifier__class_weight': 'balanced' and the f1 score of 0.546."
   ]
  },
  {
   "cell_type": "markdown",
   "metadata": {},
   "source": [
    "<br><br>"
   ]
  },
  {
   "cell_type": "markdown",
   "metadata": {},
   "source": [
    "## 11. Interpretation and feature importances <a name=\"1\"></a>\n",
    "<hr>"
   ]
  },
  {
   "cell_type": "code",
   "execution_count": 53,
   "metadata": {},
   "outputs": [],
   "source": [
    "import eli5"
   ]
  },
  {
   "cell_type": "code",
   "execution_count": 54,
   "metadata": {},
   "outputs": [],
   "source": [
    "pipe_feats = make_pipeline(preprocessor, LGBMClassifier(random_state=123,\n",
    "                                            num_leaves=100,\n",
    "                                            max_depth= 5,\n",
    "                                            class_weight = 'balanced'))\n",
    "pipe_feats.fit(X_train, y_train)\n",
    "\n",
    "feature_names = list(numeric_feats + ordinal_feats_pay_1 + ordinal_feats_pay_2 +\n",
    "                     pipe_feats.named_steps[\"columntransformer\"].named_transformers_['onehotencoder'].get_feature_names_out().tolist())"
   ]
  },
  {
   "cell_type": "code",
   "execution_count": 55,
   "metadata": {},
   "outputs": [
    {
     "data": {
      "text/plain": [
       "RandomizedSearchCV(cv=5,\n",
       "                   estimator=Pipeline(steps=[('columntransformer',\n",
       "                                              ColumnTransformer(transformers=[('drop',\n",
       "                                                                               'drop',\n",
       "                                                                               ['ID']),\n",
       "                                                                              ('standardscaler',\n",
       "                                                                               StandardScaler(),\n",
       "                                                                               ['PAY_AMT3',\n",
       "                                                                                'PAY_AMT2',\n",
       "                                                                                'PAY_AMT5',\n",
       "                                                                                'BILL_AMT6',\n",
       "                                                                                'PAY_AMT4',\n",
       "                                                                                'BILL_AMT2',\n",
       "                                                                                'PAY_AMT6',\n",
       "                                                                                'BILL_AMT5',\n",
       "                                                                                'avg_pay_amt',\n",
       "                                                                                'AGE',\n",
       "                                                                                'BILL_AMT3',\n",
       "                                                                                'BILL_AMT1',\n",
       "                                                                                'PAY_AMT1',\n",
       "                                                                                'avg_bill_amt',\n",
       "                                                                                'BILL_AMT4',\n",
       "                                                                                'LIMIT_BAL']),\n",
       "                                                                              (...\n",
       "                                                                                'MARRIAGE',\n",
       "                                                                                'EDUCATION'])])),\n",
       "                                             ('lgbmclassifier',\n",
       "                                              LGBMClassifier(random_state=123))]),\n",
       "                   n_iter=6, n_jobs=-1,\n",
       "                   param_distributions={'lgbmclassifier__class_weight': ['balanced',\n",
       "                                                                         None],\n",
       "                                        'lgbmclassifier__max_depth': array([ 5,  8, 11, 14, 17, 20, 23]),\n",
       "                                        'lgbmclassifier__num_leaves': array([ 20,  40,  60,  80, 100, 120, 140, 160, 180])},\n",
       "                   random_state=123, return_train_score=True, scoring='f1')"
      ]
     },
     "execution_count": 55,
     "metadata": {},
     "output_type": "execute_result"
    }
   ],
   "source": [
    "random_search_lgbm"
   ]
  },
  {
   "cell_type": "code",
   "execution_count": 56,
   "metadata": {},
   "outputs": [
    {
     "data": {
      "text/html": [
       "\n",
       "    <style>\n",
       "    table.eli5-weights tr:hover {\n",
       "        filter: brightness(85%);\n",
       "    }\n",
       "</style>\n",
       "\n",
       "\n",
       "\n",
       "    \n",
       "\n",
       "    \n",
       "\n",
       "    \n",
       "\n",
       "    \n",
       "\n",
       "    \n",
       "\n",
       "    \n",
       "\n",
       "\n",
       "    \n",
       "\n",
       "    \n",
       "\n",
       "    \n",
       "\n",
       "    \n",
       "\n",
       "    \n",
       "\n",
       "    \n",
       "\n",
       "\n",
       "    \n",
       "\n",
       "    \n",
       "\n",
       "    \n",
       "\n",
       "    \n",
       "\n",
       "    \n",
       "        <table class=\"eli5-weights eli5-feature-importances\" style=\"border-collapse: collapse; border: none; margin-top: 0em; table-layout: auto;\">\n",
       "    <thead>\n",
       "    <tr style=\"border: none;\">\n",
       "        <th style=\"padding: 0 1em 0 0.5em; text-align: right; border: none;\">Weight</th>\n",
       "        <th style=\"padding: 0 0.5em 0 0.5em; text-align: left; border: none;\">Feature</th>\n",
       "    </tr>\n",
       "    </thead>\n",
       "    <tbody>\n",
       "    \n",
       "        <tr style=\"background-color: hsl(120, 100.00%, 80.00%); border: none;\">\n",
       "            <td style=\"padding: 0 1em 0 0.5em; text-align: right; border: none;\">\n",
       "                0.4756\n",
       "                \n",
       "            </td>\n",
       "            <td style=\"padding: 0 0.5em 0 0.5em; text-align: left; border: none;\">\n",
       "                PAY_0\n",
       "            </td>\n",
       "        </tr>\n",
       "    \n",
       "        <tr style=\"background-color: hsl(120, 100.00%, 96.12%); border: none;\">\n",
       "            <td style=\"padding: 0 1em 0 0.5em; text-align: right; border: none;\">\n",
       "                0.0457\n",
       "                \n",
       "            </td>\n",
       "            <td style=\"padding: 0 0.5em 0 0.5em; text-align: left; border: none;\">\n",
       "                LIMIT_BAL\n",
       "            </td>\n",
       "        </tr>\n",
       "    \n",
       "        <tr style=\"background-color: hsl(120, 100.00%, 96.19%); border: none;\">\n",
       "            <td style=\"padding: 0 1em 0 0.5em; text-align: right; border: none;\">\n",
       "                0.0445\n",
       "                \n",
       "            </td>\n",
       "            <td style=\"padding: 0 0.5em 0 0.5em; text-align: left; border: none;\">\n",
       "                avg_pay_amt\n",
       "            </td>\n",
       "        </tr>\n",
       "    \n",
       "        <tr style=\"background-color: hsl(120, 100.00%, 96.45%); border: none;\">\n",
       "            <td style=\"padding: 0 1em 0 0.5em; text-align: right; border: none;\">\n",
       "                0.0402\n",
       "                \n",
       "            </td>\n",
       "            <td style=\"padding: 0 0.5em 0 0.5em; text-align: left; border: none;\">\n",
       "                BILL_AMT1\n",
       "            </td>\n",
       "        </tr>\n",
       "    \n",
       "        <tr style=\"background-color: hsl(120, 100.00%, 96.54%); border: none;\">\n",
       "            <td style=\"padding: 0 1em 0 0.5em; text-align: right; border: none;\">\n",
       "                0.0388\n",
       "                \n",
       "            </td>\n",
       "            <td style=\"padding: 0 0.5em 0 0.5em; text-align: left; border: none;\">\n",
       "                PAY_AMT2\n",
       "            </td>\n",
       "        </tr>\n",
       "    \n",
       "        <tr style=\"background-color: hsl(120, 100.00%, 97.11%); border: none;\">\n",
       "            <td style=\"padding: 0 1em 0 0.5em; text-align: right; border: none;\">\n",
       "                0.0300\n",
       "                \n",
       "            </td>\n",
       "            <td style=\"padding: 0 0.5em 0 0.5em; text-align: left; border: none;\">\n",
       "                PAY_AMT3\n",
       "            </td>\n",
       "        </tr>\n",
       "    \n",
       "        <tr style=\"background-color: hsl(120, 100.00%, 97.12%); border: none;\">\n",
       "            <td style=\"padding: 0 1em 0 0.5em; text-align: right; border: none;\">\n",
       "                0.0298\n",
       "                \n",
       "            </td>\n",
       "            <td style=\"padding: 0 0.5em 0 0.5em; text-align: left; border: none;\">\n",
       "                PAY_3\n",
       "            </td>\n",
       "        </tr>\n",
       "    \n",
       "        <tr style=\"background-color: hsl(120, 100.00%, 97.14%); border: none;\">\n",
       "            <td style=\"padding: 0 1em 0 0.5em; text-align: right; border: none;\">\n",
       "                0.0296\n",
       "                \n",
       "            </td>\n",
       "            <td style=\"padding: 0 0.5em 0 0.5em; text-align: left; border: none;\">\n",
       "                PAY_AMT1\n",
       "            </td>\n",
       "        </tr>\n",
       "    \n",
       "        <tr style=\"background-color: hsl(120, 100.00%, 97.37%); border: none;\">\n",
       "            <td style=\"padding: 0 1em 0 0.5em; text-align: right; border: none;\">\n",
       "                0.0262\n",
       "                \n",
       "            </td>\n",
       "            <td style=\"padding: 0 0.5em 0 0.5em; text-align: left; border: none;\">\n",
       "                PAY_2\n",
       "            </td>\n",
       "        </tr>\n",
       "    \n",
       "        <tr style=\"background-color: hsl(120, 100.00%, 97.50%); border: none;\">\n",
       "            <td style=\"padding: 0 1em 0 0.5em; text-align: right; border: none;\">\n",
       "                0.0243\n",
       "                \n",
       "            </td>\n",
       "            <td style=\"padding: 0 0.5em 0 0.5em; text-align: left; border: none;\">\n",
       "                avg_bill_amt\n",
       "            </td>\n",
       "        </tr>\n",
       "    \n",
       "        <tr style=\"background-color: hsl(120, 100.00%, 97.69%); border: none;\">\n",
       "            <td style=\"padding: 0 1em 0 0.5em; text-align: right; border: none;\">\n",
       "                0.0218\n",
       "                \n",
       "            </td>\n",
       "            <td style=\"padding: 0 0.5em 0 0.5em; text-align: left; border: none;\">\n",
       "                PAY_AMT4\n",
       "            </td>\n",
       "        </tr>\n",
       "    \n",
       "        <tr style=\"background-color: hsl(120, 100.00%, 97.79%); border: none;\">\n",
       "            <td style=\"padding: 0 1em 0 0.5em; text-align: right; border: none;\">\n",
       "                0.0205\n",
       "                \n",
       "            </td>\n",
       "            <td style=\"padding: 0 0.5em 0 0.5em; text-align: left; border: none;\">\n",
       "                BILL_AMT2\n",
       "            </td>\n",
       "        </tr>\n",
       "    \n",
       "        <tr style=\"background-color: hsl(120, 100.00%, 97.80%); border: none;\">\n",
       "            <td style=\"padding: 0 1em 0 0.5em; text-align: right; border: none;\">\n",
       "                0.0203\n",
       "                \n",
       "            </td>\n",
       "            <td style=\"padding: 0 0.5em 0 0.5em; text-align: left; border: none;\">\n",
       "                PAY_4\n",
       "            </td>\n",
       "        </tr>\n",
       "    \n",
       "        <tr style=\"background-color: hsl(120, 100.00%, 97.86%); border: none;\">\n",
       "            <td style=\"padding: 0 1em 0 0.5em; text-align: right; border: none;\">\n",
       "                0.0196\n",
       "                \n",
       "            </td>\n",
       "            <td style=\"padding: 0 0.5em 0 0.5em; text-align: left; border: none;\">\n",
       "                AGE\n",
       "            </td>\n",
       "        </tr>\n",
       "    \n",
       "        <tr style=\"background-color: hsl(120, 100.00%, 98.00%); border: none;\">\n",
       "            <td style=\"padding: 0 1em 0 0.5em; text-align: right; border: none;\">\n",
       "                0.0177\n",
       "                \n",
       "            </td>\n",
       "            <td style=\"padding: 0 0.5em 0 0.5em; text-align: left; border: none;\">\n",
       "                PAY_6\n",
       "            </td>\n",
       "        </tr>\n",
       "    \n",
       "        <tr style=\"background-color: hsl(120, 100.00%, 98.13%); border: none;\">\n",
       "            <td style=\"padding: 0 1em 0 0.5em; text-align: right; border: none;\">\n",
       "                0.0162\n",
       "                \n",
       "            </td>\n",
       "            <td style=\"padding: 0 0.5em 0 0.5em; text-align: left; border: none;\">\n",
       "                PAY_AMT5\n",
       "            </td>\n",
       "        </tr>\n",
       "    \n",
       "        <tr style=\"background-color: hsl(120, 100.00%, 98.18%); border: none;\">\n",
       "            <td style=\"padding: 0 1em 0 0.5em; text-align: right; border: none;\">\n",
       "                0.0155\n",
       "                \n",
       "            </td>\n",
       "            <td style=\"padding: 0 0.5em 0 0.5em; text-align: left; border: none;\">\n",
       "                PAY_AMT6\n",
       "            </td>\n",
       "        </tr>\n",
       "    \n",
       "        <tr style=\"background-color: hsl(120, 100.00%, 98.18%); border: none;\">\n",
       "            <td style=\"padding: 0 1em 0 0.5em; text-align: right; border: none;\">\n",
       "                0.0155\n",
       "                \n",
       "            </td>\n",
       "            <td style=\"padding: 0 0.5em 0 0.5em; text-align: left; border: none;\">\n",
       "                PAY_5\n",
       "            </td>\n",
       "        </tr>\n",
       "    \n",
       "        <tr style=\"background-color: hsl(120, 100.00%, 98.27%); border: none;\">\n",
       "            <td style=\"padding: 0 1em 0 0.5em; text-align: right; border: none;\">\n",
       "                0.0145\n",
       "                \n",
       "            </td>\n",
       "            <td style=\"padding: 0 0.5em 0 0.5em; text-align: left; border: none;\">\n",
       "                BILL_AMT3\n",
       "            </td>\n",
       "        </tr>\n",
       "    \n",
       "        <tr style=\"background-color: hsl(120, 100.00%, 98.39%); border: none;\">\n",
       "            <td style=\"padding: 0 1em 0 0.5em; text-align: right; border: none;\">\n",
       "                0.0130\n",
       "                \n",
       "            </td>\n",
       "            <td style=\"padding: 0 0.5em 0 0.5em; text-align: left; border: none;\">\n",
       "                BILL_AMT6\n",
       "            </td>\n",
       "        </tr>\n",
       "    \n",
       "    \n",
       "        \n",
       "            <tr style=\"background-color: hsl(120, 100.00%, 98.39%); border: none;\">\n",
       "                <td colspan=\"2\" style=\"padding: 0 0.5em 0 0.5em; text-align: center; border: none; white-space: nowrap;\">\n",
       "                    <i>&hellip; 15 more &hellip;</i>\n",
       "                </td>\n",
       "            </tr>\n",
       "        \n",
       "    \n",
       "    </tbody>\n",
       "</table>\n",
       "    \n",
       "\n",
       "    \n",
       "\n",
       "\n",
       "    \n",
       "\n",
       "    \n",
       "\n",
       "    \n",
       "\n",
       "    \n",
       "\n",
       "    \n",
       "\n",
       "    \n",
       "\n",
       "\n",
       "\n"
      ],
      "text/plain": [
       "Explanation(estimator=\"LGBMClassifier(class_weight='balanced', max_depth=5, num_leaves=100,\\n               random_state=123)\", description='\\nLightGBM feature importances; values are numbers 0 <= x <= 1;\\nall values sum to 1.\\n', error=None, method='feature importances', is_regression=False, targets=None, feature_importances=FeatureImportances(importances=[FeatureWeight(feature='PAY_0', weight=0.47559535864600083, std=None, value=None), FeatureWeight(feature='LIMIT_BAL', weight=0.045739588685088366, std=None, value=None), FeatureWeight(feature='avg_pay_amt', weight=0.044457271187826705, std=None, value=None), FeatureWeight(feature='BILL_AMT1', weight=0.04017720386714865, std=None, value=None), FeatureWeight(feature='PAY_AMT2', weight=0.03876696683772659, std=None, value=None), FeatureWeight(feature='PAY_AMT3', weight=0.030034385138488457, std=None, value=None), FeatureWeight(feature='PAY_3', weight=0.029839811546247597, std=None, value=None), FeatureWeight(feature='PAY_AMT1', weight=0.029572092352616836, std=None, value=None), FeatureWeight(feature='PAY_2', weight=0.026249232147394535, std=None, value=None), FeatureWeight(feature='avg_bill_amt', weight=0.024317842177158332, std=None, value=None), FeatureWeight(feature='PAY_AMT4', weight=0.021830486517070154, std=None, value=None), FeatureWeight(feature='BILL_AMT2', weight=0.020487965533760446, std=None, value=None), FeatureWeight(feature='PAY_4', weight=0.020320916733427574, std=None, value=None), FeatureWeight(feature='AGE', weight=0.019554063911947105, std=None, value=None), FeatureWeight(feature='PAY_6', weight=0.017736719602775577, std=None, value=None), FeatureWeight(feature='PAY_AMT5', weight=0.016155097417650803, std=None, value=None), FeatureWeight(feature='PAY_AMT6', weight=0.015491014096802504, std=None, value=None), FeatureWeight(feature='PAY_5', weight=0.015487361411713014, std=None, value=None), FeatureWeight(feature='BILL_AMT3', weight=0.014456651081907584, std=None, value=None), FeatureWeight(feature='BILL_AMT6', weight=0.012961969598448654, std=None, value=None)], remaining=15), decision_tree=None, highlight_spaces=None, transition_features=None, image=None)"
      ]
     },
     "execution_count": 56,
     "metadata": {},
     "output_type": "execute_result"
    }
   ],
   "source": [
    "eli5.explain_weights(pipe_feats.named_steps['lgbmclassifier'], feature_names=feature_names)"
   ]
  },
  {
   "cell_type": "code",
   "execution_count": 57,
   "metadata": {},
   "outputs": [],
   "source": [
    "X_train_enc = pd.DataFrame(\n",
    "    data=preprocessor.transform(X_train),\n",
    "    columns=feature_names,\n",
    "    index=X_train.index,\n",
    ")"
   ]
  },
  {
   "cell_type": "code",
   "execution_count": 58,
   "metadata": {},
   "outputs": [
    {
     "name": "stderr",
     "output_type": "stream",
     "text": [
      "LightGBM binary classifier with TreeExplainer shap values output has changed to a list of ndarray\n"
     ]
    },
    {
     "data": {
      "image/png": "[encoded data removed]",
      "text/plain": [
       "<Figure size 576x684 with 1 Axes>"
      ]
     },
     "metadata": {
      "needs_background": "light"
     },
     "output_type": "display_data"
    }
   ],
   "source": [
    "import shap\n",
    "\n",
    "lgbm_explainer = shap.TreeExplainer(pipe_feats.named_steps[\"lgbmclassifier\"])\n",
    "train_lgbm_shap_values = lgbm_explainer.shap_values(X_train_enc)\n",
    "shap.summary_plot(train_lgbm_shap_values[1], X_train_enc, plot_type='bar')"
   ]
  },
  {
   "cell_type": "markdown",
   "metadata": {},
   "source": [
    "We examined the most important features of `LGBMClassifier` with both SHAP and eli5 methods. The results from these two method are somewhat similar, as 4 out of 5 top features from `eli5` are the top 4 features in `SHAP` method (the top 4 are: `PAY_0`, `LIMIT_BAL` , `BILL_AMT1` and `PAY_AMT2` respectively). \n",
    "\n",
    "From the SHAP summary plot, it's easy to spot that `PAY_0` has significantly larger mean absolute SHAP value comparing to all other features. Similarly, the top feature `PAY_0` has a much larger weight among all the features in`eli5` output table. \n",
    "\n",
    "On the contrary, some equally important features in `eli5` is ranked differently in SHAP.\n",
    "\n",
    "Something interesting from the result here is that, having PAY_0 as the most important is assuming that the payment status in September is the most essential feature among all the variables, but this doesn't align with the reality."
   ]
  },
  {
   "cell_type": "markdown",
   "metadata": {},
   "source": [
    "<br><br>"
   ]
  },
  {
   "cell_type": "markdown",
   "metadata": {},
   "source": [
    "## 12. Results on the test set <a name=\"12\"></a>\n",
    "<hr>"
   ]
  },
  {
   "cell_type": "code",
   "execution_count": 59,
   "metadata": {},
   "outputs": [
    {
     "name": "stdout",
     "output_type": "stream",
     "text": [
      "Test Set f1 score:  0.532\n",
      "Test Set average precision score:  0.541\n",
      "Test Set recall score:  0.609\n"
     ]
    }
   ],
   "source": [
    "from sklearn.metrics import average_precision_score, f1_score, recall_score\n",
    "\n",
    "predictions = random_search_lgbm.predict(X_test)\n",
    "\n",
    "print(\"Test Set f1 score: \", round(f1_score(y_test, predictions), 3))\n",
    "print(\n",
    "    \"Test Set average precision score: \",\n",
    "    round(average_precision_score(y_test, random_search_lgbm.predict_proba(X_test)[:, 1]),3))\n",
    "print(\"Test Set recall score: \", round(recall_score(y_test, predictions), 3))\n"
   ]
  },
  {
   "cell_type": "code",
   "execution_count": 60,
   "metadata": {},
   "outputs": [
    {
     "name": "stdout",
     "output_type": "stream",
     "text": [
      "Validation Set f1 score:  0.546 (+/- 0.014)\n",
      "Validation Set average precision score:  0.565 (+/- 0.021)\n",
      "Validation Set recall score:  0.615 (+/- 0.015)\n"
     ]
    }
   ],
   "source": [
    "print(\"Validation Set f1 score: \", \n",
    "      pd.DataFrame(results).T.loc[['LightGBM_opt'], ['test_f1']]['test_f1'][0])\n",
    "print(\"Validation Set average precision score: \",\n",
    "      pd.DataFrame(results).T.loc[['LightGBM_opt'], ['test_average_precision']]['test_average_precision'][0])\n",
    "print(\"Validation Set recall score: \", \n",
    "      pd.DataFrame(results).T.loc[['LightGBM_opt'], ['test_recall']]['test_recall'][0])\n"
   ]
  },
  {
   "cell_type": "markdown",
   "metadata": {},
   "source": [
    "The test set's score were slightly lower than the validation score. As the training and test set is rather large, 21000, and 9000 respectively, we trust our results. \n",
    "Optimization bias occurs when the training set is small and many models are evaluated during hyperparameter optimization, which might cause us to get a good validation score 'by chance'. However, since both the validation and test scores are comparable, we do not think that we had issues with optimization bias. "
   ]
  },
  {
   "cell_type": "markdown",
   "metadata": {},
   "source": [
    "### Part 3"
   ]
  },
  {
   "cell_type": "code",
   "execution_count": 61,
   "metadata": {},
   "outputs": [
    {
     "data": {
      "text/plain": [
       "(9000, 35)"
      ]
     },
     "execution_count": 61,
     "metadata": {},
     "output_type": "execute_result"
    }
   ],
   "source": [
    "# Encoding X_test for SHAP force plot\n",
    "X_test_enc = pd.DataFrame(\n",
    "    data=preprocessor.transform(X_test),\n",
    "    columns=feature_names,\n",
    "    index=X_test.index,\n",
    ")\n",
    "X_test_enc.shape"
   ]
  },
  {
   "cell_type": "code",
   "execution_count": 62,
   "metadata": {},
   "outputs": [
    {
     "name": "stderr",
     "output_type": "stream",
     "text": [
      "LightGBM binary classifier with TreeExplainer shap values output has changed to a list of ndarray\n"
     ]
    },
    {
     "data": {
      "text/plain": [
       "(9000, 35)"
      ]
     },
     "execution_count": 62,
     "metadata": {},
     "output_type": "execute_result"
    }
   ],
   "source": [
    "# Create an explainer for X_test_enc\n",
    "test_lgbm_shap_values = lgbm_explainer.shap_values(X_test_enc)\n",
    "test_lgbm_shap_values[1].shape"
   ]
  },
  {
   "cell_type": "code",
   "execution_count": 63,
   "metadata": {},
   "outputs": [],
   "source": [
    "#Resetting index to explain X_test predictions\n",
    "y_test_reset = y_test.reset_index(drop=True)"
   ]
  },
  {
   "cell_type": "markdown",
   "metadata": {},
   "source": [
    "Splitting the classes into two separate lists. One for no_default and the other for yes_default:"
   ]
  },
  {
   "cell_type": "code",
   "execution_count": 64,
   "metadata": {},
   "outputs": [],
   "source": [
    "nodefault = y_test_reset[y_test_reset == 0].index.tolist()\n",
    "yesdefault = y_test_reset[y_test_reset == 1].index.tolist()\n",
    "\n",
    "# chose the 10th row of each yes/no prediction in X_test\n",
    "ex_nodefault = nodefault[10]\n",
    "ex_yesdefault = yesdefault[10]"
   ]
  },
  {
   "cell_type": "code",
   "execution_count": 65,
   "metadata": {},
   "outputs": [
    {
     "data": {
      "image/png": "[encoded data removed]",
      "text/plain": [
       "<Figure size 1440x216 with 1 Axes>"
      ]
     },
     "metadata": {
      "needs_background": "light"
     },
     "output_type": "display_data"
    }
   ],
   "source": [
    "# Force Plot for prediction of 10th row (no_default)\n",
    "\n",
    "shap.force_plot(\n",
    "    lgbm_explainer.expected_value[1],\n",
    "    test_lgbm_shap_values[1][ex_nodefault, :],\n",
    "    X_test_enc.iloc[ex_nodefault, :],\n",
    "    matplotlib=True,\n",
    ")"
   ]
  },
  {
   "cell_type": "markdown",
   "metadata": {},
   "source": [
    "- As seen from the plot, the raw score is much smaller than the base value, which predict accurately as no-default (class of '0'). \n",
    "- Sex_1 = 1.0, and Marriage_2 = 0.0, are pushing the prediction towards a higher score, and then PAY_0 = 8.0, BILL_AMT1 = -0.145, LIMIT_BAL = 0.0162 are pushing the prediction towards a lower score."
   ]
  },
  {
   "cell_type": "code",
   "execution_count": 66,
   "metadata": {},
   "outputs": [
    {
     "data": {
      "image/png": "[encoded data removed]",
      "text/plain": [
       "<Figure size 1440x216 with 1 Axes>"
      ]
     },
     "metadata": {
      "needs_background": "light"
     },
     "output_type": "display_data"
    }
   ],
   "source": [
    "# Force Plot for prediction of 10th row (yes_default)\n",
    "\n",
    "shap.force_plot(\n",
    "    lgbm_explainer.expected_value[1],\n",
    "    test_lgbm_shap_values[1][ex_yesdefault, :],\n",
    "    X_test_enc.iloc[ex_yesdefault, :],\n",
    "    matplotlib=True,\n",
    ")"
   ]
  },
  {
   "cell_type": "markdown",
   "metadata": {},
   "source": [
    "- As seen from the plot, the raw score is significantly higher than the base value, which is reflected in the prediction class of '1' which is a yes_default. \n",
    "- PAY_0 = 6.0 and PAY_2 = 6.0 are the features pushing the prediction towards higher scores, while PAY_3 = 9.0 is pushing the score towards a lower value. "
   ]
  },
  {
   "cell_type": "markdown",
   "metadata": {},
   "source": [
    "<br><br>"
   ]
  },
  {
   "cell_type": "markdown",
   "metadata": {},
   "source": [
    "## 13. Summary of results <a name=\"13\"></a>\n",
    "<hr>"
   ]
  },
  {
   "cell_type": "code",
   "execution_count": 67,
   "metadata": {},
   "outputs": [
    {
     "data": {
      "text/html": [
       "<div>\n",
       "<style scoped>\n",
       "    .dataframe tbody tr th:only-of-type {\n",
       "        vertical-align: middle;\n",
       "    }\n",
       "\n",
       "    .dataframe tbody tr th {\n",
       "        vertical-align: top;\n",
       "    }\n",
       "\n",
       "    .dataframe thead th {\n",
       "        text-align: right;\n",
       "    }\n",
       "</style>\n",
       "<table border=\"1\" class=\"dataframe\">\n",
       "  <thead>\n",
       "    <tr style=\"text-align: right;\">\n",
       "      <th></th>\n",
       "      <th>fit_time</th>\n",
       "      <th>score_time</th>\n",
       "      <th>test_f1</th>\n",
       "      <th>train_f1</th>\n",
       "      <th>test_recall</th>\n",
       "      <th>train_recall</th>\n",
       "      <th>test_average_precision</th>\n",
       "      <th>train_average_precision</th>\n",
       "    </tr>\n",
       "  </thead>\n",
       "  <tbody>\n",
       "    <tr>\n",
       "      <th>dummy</th>\n",
       "      <td>0.036 (+/- 0.007)</td>\n",
       "      <td>0.022 (+/- 0.001)</td>\n",
       "      <td>0.000 (+/- 0.000)</td>\n",
       "      <td>0.000 (+/- 0.000)</td>\n",
       "      <td>0.000 (+/- 0.000)</td>\n",
       "      <td>0.000 (+/- 0.000)</td>\n",
       "      <td>0.223 (+/- 0.000)</td>\n",
       "      <td>0.223 (+/- 0.000)</td>\n",
       "    </tr>\n",
       "    <tr>\n",
       "      <th>RandomForest</th>\n",
       "      <td>4.804 (+/- 0.184)</td>\n",
       "      <td>0.231 (+/- 0.034)</td>\n",
       "      <td>0.473 (+/- 0.009)</td>\n",
       "      <td>0.999 (+/- 0.000)</td>\n",
       "      <td>0.374 (+/- 0.009)</td>\n",
       "      <td>0.998 (+/- 0.000)</td>\n",
       "      <td>0.540 (+/- 0.015)</td>\n",
       "      <td>1.000 (+/- 0.000)</td>\n",
       "    </tr>\n",
       "    <tr>\n",
       "      <th>random_forest_opt</th>\n",
       "      <td>6.074 (+/- 0.767)</td>\n",
       "      <td>0.243 (+/- 0.036)</td>\n",
       "      <td>0.545 (+/- 0.018)</td>\n",
       "      <td>0.653 (+/- 0.001)</td>\n",
       "      <td>0.553 (+/- 0.012)</td>\n",
       "      <td>0.669 (+/- 0.005)</td>\n",
       "      <td>0.557 (+/- 0.021)</td>\n",
       "      <td>0.740 (+/- 0.004)</td>\n",
       "    </tr>\n",
       "    <tr>\n",
       "      <th>XGBoost_opt</th>\n",
       "      <td>9.876 (+/- 0.544)</td>\n",
       "      <td>0.080 (+/- 0.010)</td>\n",
       "      <td>0.466 (+/- 0.013)</td>\n",
       "      <td>0.998 (+/- 0.000)</td>\n",
       "      <td>0.378 (+/- 0.011)</td>\n",
       "      <td>0.997 (+/- 0.001)</td>\n",
       "      <td>0.527 (+/- 0.015)</td>\n",
       "      <td>1.000 (+/- 0.000)</td>\n",
       "    </tr>\n",
       "    <tr>\n",
       "      <th>LightGBM_opt</th>\n",
       "      <td>0.634 (+/- 0.205)</td>\n",
       "      <td>0.072 (+/- 0.010)</td>\n",
       "      <td>0.546 (+/- 0.014)</td>\n",
       "      <td>0.617 (+/- 0.002)</td>\n",
       "      <td>0.615 (+/- 0.015)</td>\n",
       "      <td>0.695 (+/- 0.005)</td>\n",
       "      <td>0.565 (+/- 0.021)</td>\n",
       "      <td>0.682 (+/- 0.004)</td>\n",
       "    </tr>\n",
       "    <tr>\n",
       "      <th>CatBoost_opt</th>\n",
       "      <td>6.082 (+/- 0.549)</td>\n",
       "      <td>0.130 (+/- 0.009)</td>\n",
       "      <td>0.522 (+/- 0.010)</td>\n",
       "      <td>0.817 (+/- 0.004)</td>\n",
       "      <td>0.564 (+/- 0.008)</td>\n",
       "      <td>0.931 (+/- 0.005)</td>\n",
       "      <td>0.533 (+/- 0.017)</td>\n",
       "      <td>0.893 (+/- 0.002)</td>\n",
       "    </tr>\n",
       "  </tbody>\n",
       "</table>\n",
       "</div>"
      ],
      "text/plain": [
       "                            fit_time         score_time            test_f1  \\\n",
       "dummy              0.036 (+/- 0.007)  0.022 (+/- 0.001)  0.000 (+/- 0.000)   \n",
       "RandomForest       4.804 (+/- 0.184)  0.231 (+/- 0.034)  0.473 (+/- 0.009)   \n",
       "random_forest_opt  6.074 (+/- 0.767)  0.243 (+/- 0.036)  0.545 (+/- 0.018)   \n",
       "XGBoost_opt        9.876 (+/- 0.544)  0.080 (+/- 0.010)  0.466 (+/- 0.013)   \n",
       "LightGBM_opt       0.634 (+/- 0.205)  0.072 (+/- 0.010)  0.546 (+/- 0.014)   \n",
       "CatBoost_opt       6.082 (+/- 0.549)  0.130 (+/- 0.009)  0.522 (+/- 0.010)   \n",
       "\n",
       "                            train_f1        test_recall       train_recall  \\\n",
       "dummy              0.000 (+/- 0.000)  0.000 (+/- 0.000)  0.000 (+/- 0.000)   \n",
       "RandomForest       0.999 (+/- 0.000)  0.374 (+/- 0.009)  0.998 (+/- 0.000)   \n",
       "random_forest_opt  0.653 (+/- 0.001)  0.553 (+/- 0.012)  0.669 (+/- 0.005)   \n",
       "XGBoost_opt        0.998 (+/- 0.000)  0.378 (+/- 0.011)  0.997 (+/- 0.001)   \n",
       "LightGBM_opt       0.617 (+/- 0.002)  0.615 (+/- 0.015)  0.695 (+/- 0.005)   \n",
       "CatBoost_opt       0.817 (+/- 0.004)  0.564 (+/- 0.008)  0.931 (+/- 0.005)   \n",
       "\n",
       "                  test_average_precision train_average_precision  \n",
       "dummy                  0.223 (+/- 0.000)       0.223 (+/- 0.000)  \n",
       "RandomForest           0.540 (+/- 0.015)       1.000 (+/- 0.000)  \n",
       "random_forest_opt      0.557 (+/- 0.021)       0.740 (+/- 0.004)  \n",
       "XGBoost_opt            0.527 (+/- 0.015)       1.000 (+/- 0.000)  \n",
       "LightGBM_opt           0.565 (+/- 0.021)       0.682 (+/- 0.004)  \n",
       "CatBoost_opt           0.533 (+/- 0.017)       0.893 (+/- 0.002)  "
      ]
     },
     "execution_count": 67,
     "metadata": {},
     "output_type": "execute_result"
    }
   ],
   "source": [
    "pd.DataFrame(results).T.loc[['dummy', 'RandomForest', 'random_forest_opt', 'XGBoost_opt', 'LightGBM_opt', 'CatBoost_opt']]"
   ]
  },
  {
   "cell_type": "markdown",
   "metadata": {},
   "source": [
    "Amongst the models, it is clear that the model that we have chosen `LightGBM_opt` is optimal in terms of total time required for fit and score, has the best f1 score, recall score, and average precision score. Moreover, the difference in scores between the test set and validation set are minimal, suggesting that there is minimal optimisation bias. Based on our test scores, which are highlighted in part 12 of this lab, our model is able to identify about **60.9% of the true default cases**, and **correctly identify 54.0% of all the default cases**. "
   ]
  },
  {
   "cell_type": "markdown",
   "metadata": {},
   "source": [
    "First, it is very important to highlight that discussion of the score and model should not be misinterpreted. For instance, the feature importance interpretation, our model suggested that PAY_0 weighted much more than other payments (PAY_1, PAY_2, etc.). In reality, we consider customer credit in a longer and consistent manner, which means payments made in every months should be treated equally. While the model suggested the payment in one particular month would weight much more than the rest months, hence we should not be overly confident/interpret our result of the model top importance features.\n",
    "\n",
    "Moreover, as discussed in EDA, the gender imbalance is present in the dataset, and we believe to avoid further discussions and possible misinterpretation (ethical), it will be better to include an analysis of results for distinguished groups in later studies.\n"
   ]
  },
  {
   "cell_type": "markdown",
   "metadata": {},
   "source": [
    "There is definitely room for improvement in our project, in terms of increasing its performance (CV score wise) and its interpretability. \n",
    "\n",
    "In terms of the choice of models, we could have attempted various ensemble methods, such as averaging and stacking to improve the performance of our model. It would allow us to combine different models, and potentially get better results. However, this would decrease interpretability, as there is randomness injected, and also reduce code maintainability, as each model needs to be optimized individually. \n",
    "\n",
    "In terms of the actual dataset, although we attempted to create new features, we did not test for correlation between pairs of the explanatory variables. We could have potentially calculated the variance inflation factor, and manually removed several features. While not a foolproof method and it will lend itself to a possibility of underfitting, we could have explored that option. "
   ]
  },
  {
   "cell_type": "code",
   "execution_count": 11,
   "metadata": {},
   "outputs": [
    {
     "name": "stdout",
     "output_type": "stream",
     "text": [
      "Reset css and font defaults in:\n",
      "/Users/macychan/.jupyter/custom &\n",
      "/Users/macychan/Library/Jupyter/nbextensions\n",
      "[NbConvertApp] Converting notebook default_credit_card_client_predictor.ipynb to html\n",
      "[NbConvertApp] Writing 979321 bytes to index.html\n"
     ]
    }
   ],
   "source": [
    "!jt -r\n",
    "!jupyter nbconvert --to html default_credit_card_client_predictor.ipynb --output \"index.html\"\n",
    "!jt -t onedork"
   ]
  }
 ],
 "metadata": {
  "kernelspec": {
   "display_name": "Python 3 (ipykernel)",
   "language": "python",
   "name": "python3"
  },
  "language_info": {
   "codemirror_mode": {
    "name": "ipython",
    "version": 3
   },
   "file_extension": ".py",
   "mimetype": "text/x-python",
   "name": "python",
   "nbconvert_exporter": "python",
   "pygments_lexer": "ipython3",
   "version": "3.9.9"
  }
 },
 "nbformat": 4,
 "nbformat_minor": 4
}
